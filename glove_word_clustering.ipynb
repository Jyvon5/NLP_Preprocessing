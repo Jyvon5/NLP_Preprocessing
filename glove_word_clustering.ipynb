{
  "nbformat": 4,
  "nbformat_minor": 0,
  "metadata": {
    "colab": {
      "provenance": [],
      "authorship_tag": "ABX9TyN0Knup2zQD8s5OfoujySZV"
    },
    "kernelspec": {
      "name": "python3",
      "display_name": "Python 3"
    },
    "language_info": {
      "name": "python"
    }
  },
  "cells": [
    {
      "cell_type": "code",
      "execution_count": 1,
      "metadata": {
        "colab": {
          "base_uri": "https://localhost:8080/"
        },
        "id": "ONSHwpPGjfIJ",
        "outputId": "1f84f7dc-f6c2-4004-8fb7-e088829eb1fe"
      },
      "outputs": [
        {
          "output_type": "stream",
          "name": "stderr",
          "text": [
            "/usr/local/lib/python3.10/dist-packages/torchtext/vocab/__init__.py:4: UserWarning: \n",
            "/!\\ IMPORTANT WARNING ABOUT TORCHTEXT STATUS /!\\ \n",
            "Torchtext is deprecated and the last released version will be 0.18 (this one). You can silence this warning by calling the following at the beginnign of your scripts: `import torchtext; torchtext.disable_torchtext_deprecation_warning()`\n",
            "/usr/local/lib/python3.10/dist-packages/torchtext/utils.py:4: UserWarning: \n",
            "/!\\ IMPORTANT WARNING ABOUT TORCHTEXT STATUS /!\\ \n",
            "Torchtext is deprecated and the last released version will be 0.18 (this one). You can silence this warning by calling the following at the beginnign of your scripts: `import torchtext; torchtext.disable_torchtext_deprecation_warning()`\n"
          ]
        }
      ],
      "source": [
        "import pandas as pd\n",
        "\n",
        "from plotnine import ggplot, aes, geom_text, labs\n",
        "from sklearn.manifold import TSNE\n",
        "import torchtext.vocab as vocab\n",
        "import torch"
      ]
    },
    {
      "cell_type": "code",
      "source": [
        "# importing GloVe\n",
        "glove_dim=100\n",
        "glove = vocab.GloVe(name='6B', dim=glove_dim)"
      ],
      "metadata": {
        "colab": {
          "base_uri": "https://localhost:8080/"
        },
        "id": "qrMKI_0njwx3",
        "outputId": "2322a582-2477-463f-f397-6416302961a4"
      },
      "execution_count": 2,
      "outputs": [
        {
          "output_type": "stream",
          "name": "stderr",
          "text": [
            ".vector_cache/glove.6B.zip: 862MB [02:39, 5.41MB/s]                           \n",
            "100%|█████████▉| 399999/400000 [00:27<00:00, 14476.34it/s]\n"
          ]
        }
      ]
    },
    {
      "cell_type": "code",
      "source": [
        "def get_embedding_vector(word):\n",
        "  word_index = glove.stoi[word]\n",
        "  emb = glove.vectors[word_index]\n",
        "\n",
        "  return emb\n",
        "\n",
        "def get_closest_words_from_word(word, max_n=5):\n",
        "  word_emb = get_embedding_vector(word)\n",
        "  distances = [(w, torch.dist(word_emb, get_embedding_vector(w)).cpu().item()) for w in glove.itos]\n",
        "  dist_sort_filt = sorted(distances, key=lambda x: x[1])[:max_n]\n",
        "\n",
        "  return [item[0] for item in dist_sort_filt]"
      ],
      "metadata": {
        "id": "ud95WyN5kAbF"
      },
      "execution_count": 5,
      "outputs": []
    },
    {
      "cell_type": "code",
      "source": [
        "get_closest_words_from_word('chess', max_n=10)"
      ],
      "metadata": {
        "colab": {
          "base_uri": "https://localhost:8080/"
        },
        "id": "X7cU9gVnk5hn",
        "outputId": "565b3a8d-edcf-4910-e985-7cf3489c7e38"
      },
      "execution_count": 6,
      "outputs": [
        {
          "output_type": "execute_result",
          "data": {
            "text/plain": [
              "['chess',\n",
              " 'backgammon',\n",
              " 'grandmasters',\n",
              " 'grandmaster',\n",
              " 'scrabble',\n",
              " 'billiards',\n",
              " 'xiangqi',\n",
              " 'kasparov',\n",
              " 'snooker',\n",
              " 'olympiad']"
            ]
          },
          "metadata": {},
          "execution_count": 6
        }
      ]
    },
    {
      "cell_type": "code",
      "source": [
        "words = []\n",
        "\n",
        "categories = ['numbers', 'music', 'science', 'art', 'society']"
      ],
      "metadata": {
        "id": "A7Jq84Q9lAOH"
      },
      "execution_count": 7,
      "outputs": []
    },
    {
      "cell_type": "code",
      "source": [
        "df_word_cloud = pd.DataFrame({\n",
        "    'category': [],\n",
        "    'word': []\n",
        "})"
      ],
      "metadata": {
        "id": "ajVb5Qicllla"
      },
      "execution_count": 8,
      "outputs": []
    },
    {
      "cell_type": "code",
      "source": [
        "for category in categories:\n",
        "  print(category)\n",
        "  closest_words = get_closest_words_from_word(word=category, max_n=20)\n",
        "  temp_df = pd.DataFrame({\n",
        "      'category': [category] * len(closest_words),\n",
        "      'word': closest_words\n",
        "  })\n",
        "\n",
        "  df_word_cloud = pd.concat([df_word_cloud, temp_df], ignore_index=True)"
      ],
      "metadata": {
        "colab": {
          "base_uri": "https://localhost:8080/"
        },
        "id": "NumbfhXrlto-",
        "outputId": "0028f997-14c3-4d07-e507-87876507cdf7"
      },
      "execution_count": 9,
      "outputs": [
        {
          "output_type": "stream",
          "name": "stdout",
          "text": [
            "numbers\n",
            "music\n",
            "science\n",
            "art\n",
            "society\n"
          ]
        }
      ]
    },
    {
      "cell_type": "code",
      "source": [
        "df_word_cloud"
      ],
      "metadata": {
        "colab": {
          "base_uri": "https://localhost:8080/",
          "height": 424
        },
        "id": "0oxrO8M6mkLa",
        "outputId": "d6cd248f-9a2f-4d9d-b675-eb455196db89"
      },
      "execution_count": 10,
      "outputs": [
        {
          "output_type": "execute_result",
          "data": {
            "text/plain": [
              "   category         word\n",
              "0   numbers      numbers\n",
              "1   numbers       number\n",
              "2   numbers       though\n",
              "3   numbers     instance\n",
              "4   numbers         fact\n",
              "..      ...          ...\n",
              "95  society      created\n",
              "96  society            “\n",
              "97  society  association\n",
              "98  society    organized\n",
              "99  society     cultural\n",
              "\n",
              "[100 rows x 2 columns]"
            ],
            "text/html": [
              "\n",
              "  <div id=\"df-8be3ea39-a3c8-4dcb-a62e-5f08942baf46\" class=\"colab-df-container\">\n",
              "    <div>\n",
              "<style scoped>\n",
              "    .dataframe tbody tr th:only-of-type {\n",
              "        vertical-align: middle;\n",
              "    }\n",
              "\n",
              "    .dataframe tbody tr th {\n",
              "        vertical-align: top;\n",
              "    }\n",
              "\n",
              "    .dataframe thead th {\n",
              "        text-align: right;\n",
              "    }\n",
              "</style>\n",
              "<table border=\"1\" class=\"dataframe\">\n",
              "  <thead>\n",
              "    <tr style=\"text-align: right;\">\n",
              "      <th></th>\n",
              "      <th>category</th>\n",
              "      <th>word</th>\n",
              "    </tr>\n",
              "  </thead>\n",
              "  <tbody>\n",
              "    <tr>\n",
              "      <th>0</th>\n",
              "      <td>numbers</td>\n",
              "      <td>numbers</td>\n",
              "    </tr>\n",
              "    <tr>\n",
              "      <th>1</th>\n",
              "      <td>numbers</td>\n",
              "      <td>number</td>\n",
              "    </tr>\n",
              "    <tr>\n",
              "      <th>2</th>\n",
              "      <td>numbers</td>\n",
              "      <td>though</td>\n",
              "    </tr>\n",
              "    <tr>\n",
              "      <th>3</th>\n",
              "      <td>numbers</td>\n",
              "      <td>instance</td>\n",
              "    </tr>\n",
              "    <tr>\n",
              "      <th>4</th>\n",
              "      <td>numbers</td>\n",
              "      <td>fact</td>\n",
              "    </tr>\n",
              "    <tr>\n",
              "      <th>...</th>\n",
              "      <td>...</td>\n",
              "      <td>...</td>\n",
              "    </tr>\n",
              "    <tr>\n",
              "      <th>95</th>\n",
              "      <td>society</td>\n",
              "      <td>created</td>\n",
              "    </tr>\n",
              "    <tr>\n",
              "      <th>96</th>\n",
              "      <td>society</td>\n",
              "      <td>“</td>\n",
              "    </tr>\n",
              "    <tr>\n",
              "      <th>97</th>\n",
              "      <td>society</td>\n",
              "      <td>association</td>\n",
              "    </tr>\n",
              "    <tr>\n",
              "      <th>98</th>\n",
              "      <td>society</td>\n",
              "      <td>organized</td>\n",
              "    </tr>\n",
              "    <tr>\n",
              "      <th>99</th>\n",
              "      <td>society</td>\n",
              "      <td>cultural</td>\n",
              "    </tr>\n",
              "  </tbody>\n",
              "</table>\n",
              "<p>100 rows × 2 columns</p>\n",
              "</div>\n",
              "    <div class=\"colab-df-buttons\">\n",
              "\n",
              "  <div class=\"colab-df-container\">\n",
              "    <button class=\"colab-df-convert\" onclick=\"convertToInteractive('df-8be3ea39-a3c8-4dcb-a62e-5f08942baf46')\"\n",
              "            title=\"Convert this dataframe to an interactive table.\"\n",
              "            style=\"display:none;\">\n",
              "\n",
              "  <svg xmlns=\"http://www.w3.org/2000/svg\" height=\"24px\" viewBox=\"0 -960 960 960\">\n",
              "    <path d=\"M120-120v-720h720v720H120Zm60-500h600v-160H180v160Zm220 220h160v-160H400v160Zm0 220h160v-160H400v160ZM180-400h160v-160H180v160Zm440 0h160v-160H620v160ZM180-180h160v-160H180v160Zm440 0h160v-160H620v160Z\"/>\n",
              "  </svg>\n",
              "    </button>\n",
              "\n",
              "  <style>\n",
              "    .colab-df-container {\n",
              "      display:flex;\n",
              "      gap: 12px;\n",
              "    }\n",
              "\n",
              "    .colab-df-convert {\n",
              "      background-color: #E8F0FE;\n",
              "      border: none;\n",
              "      border-radius: 50%;\n",
              "      cursor: pointer;\n",
              "      display: none;\n",
              "      fill: #1967D2;\n",
              "      height: 32px;\n",
              "      padding: 0 0 0 0;\n",
              "      width: 32px;\n",
              "    }\n",
              "\n",
              "    .colab-df-convert:hover {\n",
              "      background-color: #E2EBFA;\n",
              "      box-shadow: 0px 1px 2px rgba(60, 64, 67, 0.3), 0px 1px 3px 1px rgba(60, 64, 67, 0.15);\n",
              "      fill: #174EA6;\n",
              "    }\n",
              "\n",
              "    .colab-df-buttons div {\n",
              "      margin-bottom: 4px;\n",
              "    }\n",
              "\n",
              "    [theme=dark] .colab-df-convert {\n",
              "      background-color: #3B4455;\n",
              "      fill: #D2E3FC;\n",
              "    }\n",
              "\n",
              "    [theme=dark] .colab-df-convert:hover {\n",
              "      background-color: #434B5C;\n",
              "      box-shadow: 0px 1px 3px 1px rgba(0, 0, 0, 0.15);\n",
              "      filter: drop-shadow(0px 1px 2px rgba(0, 0, 0, 0.3));\n",
              "      fill: #FFFFFF;\n",
              "    }\n",
              "  </style>\n",
              "\n",
              "    <script>\n",
              "      const buttonEl =\n",
              "        document.querySelector('#df-8be3ea39-a3c8-4dcb-a62e-5f08942baf46 button.colab-df-convert');\n",
              "      buttonEl.style.display =\n",
              "        google.colab.kernel.accessAllowed ? 'block' : 'none';\n",
              "\n",
              "      async function convertToInteractive(key) {\n",
              "        const element = document.querySelector('#df-8be3ea39-a3c8-4dcb-a62e-5f08942baf46');\n",
              "        const dataTable =\n",
              "          await google.colab.kernel.invokeFunction('convertToInteractive',\n",
              "                                                    [key], {});\n",
              "        if (!dataTable) return;\n",
              "\n",
              "        const docLinkHtml = 'Like what you see? Visit the ' +\n",
              "          '<a target=\"_blank\" href=https://colab.research.google.com/notebooks/data_table.ipynb>data table notebook</a>'\n",
              "          + ' to learn more about interactive tables.';\n",
              "        element.innerHTML = '';\n",
              "        dataTable['output_type'] = 'display_data';\n",
              "        await google.colab.output.renderOutput(dataTable, element);\n",
              "        const docLink = document.createElement('div');\n",
              "        docLink.innerHTML = docLinkHtml;\n",
              "        element.appendChild(docLink);\n",
              "      }\n",
              "    </script>\n",
              "  </div>\n",
              "\n",
              "\n",
              "<div id=\"df-6ae33eff-f0ce-40bc-8619-3725cd5cd2d1\">\n",
              "  <button class=\"colab-df-quickchart\" onclick=\"quickchart('df-6ae33eff-f0ce-40bc-8619-3725cd5cd2d1')\"\n",
              "            title=\"Suggest charts\"\n",
              "            style=\"display:none;\">\n",
              "\n",
              "<svg xmlns=\"http://www.w3.org/2000/svg\" height=\"24px\"viewBox=\"0 0 24 24\"\n",
              "     width=\"24px\">\n",
              "    <g>\n",
              "        <path d=\"M19 3H5c-1.1 0-2 .9-2 2v14c0 1.1.9 2 2 2h14c1.1 0 2-.9 2-2V5c0-1.1-.9-2-2-2zM9 17H7v-7h2v7zm4 0h-2V7h2v10zm4 0h-2v-4h2v4z\"/>\n",
              "    </g>\n",
              "</svg>\n",
              "  </button>\n",
              "\n",
              "<style>\n",
              "  .colab-df-quickchart {\n",
              "      --bg-color: #E8F0FE;\n",
              "      --fill-color: #1967D2;\n",
              "      --hover-bg-color: #E2EBFA;\n",
              "      --hover-fill-color: #174EA6;\n",
              "      --disabled-fill-color: #AAA;\n",
              "      --disabled-bg-color: #DDD;\n",
              "  }\n",
              "\n",
              "  [theme=dark] .colab-df-quickchart {\n",
              "      --bg-color: #3B4455;\n",
              "      --fill-color: #D2E3FC;\n",
              "      --hover-bg-color: #434B5C;\n",
              "      --hover-fill-color: #FFFFFF;\n",
              "      --disabled-bg-color: #3B4455;\n",
              "      --disabled-fill-color: #666;\n",
              "  }\n",
              "\n",
              "  .colab-df-quickchart {\n",
              "    background-color: var(--bg-color);\n",
              "    border: none;\n",
              "    border-radius: 50%;\n",
              "    cursor: pointer;\n",
              "    display: none;\n",
              "    fill: var(--fill-color);\n",
              "    height: 32px;\n",
              "    padding: 0;\n",
              "    width: 32px;\n",
              "  }\n",
              "\n",
              "  .colab-df-quickchart:hover {\n",
              "    background-color: var(--hover-bg-color);\n",
              "    box-shadow: 0 1px 2px rgba(60, 64, 67, 0.3), 0 1px 3px 1px rgba(60, 64, 67, 0.15);\n",
              "    fill: var(--button-hover-fill-color);\n",
              "  }\n",
              "\n",
              "  .colab-df-quickchart-complete:disabled,\n",
              "  .colab-df-quickchart-complete:disabled:hover {\n",
              "    background-color: var(--disabled-bg-color);\n",
              "    fill: var(--disabled-fill-color);\n",
              "    box-shadow: none;\n",
              "  }\n",
              "\n",
              "  .colab-df-spinner {\n",
              "    border: 2px solid var(--fill-color);\n",
              "    border-color: transparent;\n",
              "    border-bottom-color: var(--fill-color);\n",
              "    animation:\n",
              "      spin 1s steps(1) infinite;\n",
              "  }\n",
              "\n",
              "  @keyframes spin {\n",
              "    0% {\n",
              "      border-color: transparent;\n",
              "      border-bottom-color: var(--fill-color);\n",
              "      border-left-color: var(--fill-color);\n",
              "    }\n",
              "    20% {\n",
              "      border-color: transparent;\n",
              "      border-left-color: var(--fill-color);\n",
              "      border-top-color: var(--fill-color);\n",
              "    }\n",
              "    30% {\n",
              "      border-color: transparent;\n",
              "      border-left-color: var(--fill-color);\n",
              "      border-top-color: var(--fill-color);\n",
              "      border-right-color: var(--fill-color);\n",
              "    }\n",
              "    40% {\n",
              "      border-color: transparent;\n",
              "      border-right-color: var(--fill-color);\n",
              "      border-top-color: var(--fill-color);\n",
              "    }\n",
              "    60% {\n",
              "      border-color: transparent;\n",
              "      border-right-color: var(--fill-color);\n",
              "    }\n",
              "    80% {\n",
              "      border-color: transparent;\n",
              "      border-right-color: var(--fill-color);\n",
              "      border-bottom-color: var(--fill-color);\n",
              "    }\n",
              "    90% {\n",
              "      border-color: transparent;\n",
              "      border-bottom-color: var(--fill-color);\n",
              "    }\n",
              "  }\n",
              "</style>\n",
              "\n",
              "  <script>\n",
              "    async function quickchart(key) {\n",
              "      const quickchartButtonEl =\n",
              "        document.querySelector('#' + key + ' button');\n",
              "      quickchartButtonEl.disabled = true;  // To prevent multiple clicks.\n",
              "      quickchartButtonEl.classList.add('colab-df-spinner');\n",
              "      try {\n",
              "        const charts = await google.colab.kernel.invokeFunction(\n",
              "            'suggestCharts', [key], {});\n",
              "      } catch (error) {\n",
              "        console.error('Error during call to suggestCharts:', error);\n",
              "      }\n",
              "      quickchartButtonEl.classList.remove('colab-df-spinner');\n",
              "      quickchartButtonEl.classList.add('colab-df-quickchart-complete');\n",
              "    }\n",
              "    (() => {\n",
              "      let quickchartButtonEl =\n",
              "        document.querySelector('#df-6ae33eff-f0ce-40bc-8619-3725cd5cd2d1 button');\n",
              "      quickchartButtonEl.style.display =\n",
              "        google.colab.kernel.accessAllowed ? 'block' : 'none';\n",
              "    })();\n",
              "  </script>\n",
              "</div>\n",
              "\n",
              "  <div id=\"id_65b7e23f-91a2-4440-95d9-7d85ea4d486d\">\n",
              "    <style>\n",
              "      .colab-df-generate {\n",
              "        background-color: #E8F0FE;\n",
              "        border: none;\n",
              "        border-radius: 50%;\n",
              "        cursor: pointer;\n",
              "        display: none;\n",
              "        fill: #1967D2;\n",
              "        height: 32px;\n",
              "        padding: 0 0 0 0;\n",
              "        width: 32px;\n",
              "      }\n",
              "\n",
              "      .colab-df-generate:hover {\n",
              "        background-color: #E2EBFA;\n",
              "        box-shadow: 0px 1px 2px rgba(60, 64, 67, 0.3), 0px 1px 3px 1px rgba(60, 64, 67, 0.15);\n",
              "        fill: #174EA6;\n",
              "      }\n",
              "\n",
              "      [theme=dark] .colab-df-generate {\n",
              "        background-color: #3B4455;\n",
              "        fill: #D2E3FC;\n",
              "      }\n",
              "\n",
              "      [theme=dark] .colab-df-generate:hover {\n",
              "        background-color: #434B5C;\n",
              "        box-shadow: 0px 1px 3px 1px rgba(0, 0, 0, 0.15);\n",
              "        filter: drop-shadow(0px 1px 2px rgba(0, 0, 0, 0.3));\n",
              "        fill: #FFFFFF;\n",
              "      }\n",
              "    </style>\n",
              "    <button class=\"colab-df-generate\" onclick=\"generateWithVariable('df_word_cloud')\"\n",
              "            title=\"Generate code using this dataframe.\"\n",
              "            style=\"display:none;\">\n",
              "\n",
              "  <svg xmlns=\"http://www.w3.org/2000/svg\" height=\"24px\"viewBox=\"0 0 24 24\"\n",
              "       width=\"24px\">\n",
              "    <path d=\"M7,19H8.4L18.45,9,17,7.55,7,17.6ZM5,21V16.75L18.45,3.32a2,2,0,0,1,2.83,0l1.4,1.43a1.91,1.91,0,0,1,.58,1.4,1.91,1.91,0,0,1-.58,1.4L9.25,21ZM18.45,9,17,7.55Zm-12,3A5.31,5.31,0,0,0,4.9,8.1,5.31,5.31,0,0,0,1,6.5,5.31,5.31,0,0,0,4.9,4.9,5.31,5.31,0,0,0,6.5,1,5.31,5.31,0,0,0,8.1,4.9,5.31,5.31,0,0,0,12,6.5,5.46,5.46,0,0,0,6.5,12Z\"/>\n",
              "  </svg>\n",
              "    </button>\n",
              "    <script>\n",
              "      (() => {\n",
              "      const buttonEl =\n",
              "        document.querySelector('#id_65b7e23f-91a2-4440-95d9-7d85ea4d486d button.colab-df-generate');\n",
              "      buttonEl.style.display =\n",
              "        google.colab.kernel.accessAllowed ? 'block' : 'none';\n",
              "\n",
              "      buttonEl.onclick = () => {\n",
              "        google.colab.notebook.generateWithVariable('df_word_cloud');\n",
              "      }\n",
              "      })();\n",
              "    </script>\n",
              "  </div>\n",
              "\n",
              "    </div>\n",
              "  </div>\n"
            ],
            "application/vnd.google.colaboratory.intrinsic+json": {
              "type": "dataframe",
              "variable_name": "df_word_cloud",
              "summary": "{\n  \"name\": \"df_word_cloud\",\n  \"rows\": 100,\n  \"fields\": [\n    {\n      \"column\": \"category\",\n      \"properties\": {\n        \"dtype\": \"category\",\n        \"num_unique_values\": 5,\n        \"samples\": [\n          \"music\",\n          \"society\",\n          \"science\"\n        ],\n        \"semantic_type\": \"\",\n        \"description\": \"\"\n      }\n    },\n    {\n      \"column\": \"word\",\n      \"properties\": {\n        \"dtype\": \"string\",\n        \"num_unique_values\": 96,\n        \"samples\": [\n          \"institution\",\n          \"artistic\",\n          \"culture\"\n        ],\n        \"semantic_type\": \"\",\n        \"description\": \"\"\n      }\n    }\n  ]\n}"
            }
          },
          "metadata": {},
          "execution_count": 10
        }
      ]
    },
    {
      "cell_type": "code",
      "source": [
        "# Get the word embeddings of all the words in the df\n",
        "n_rows = df_word_cloud.shape[0]\n",
        "\n",
        "n_cols = glove.dim\n",
        "\n",
        "X = torch.empty((n_rows, n_cols))\n",
        "\n",
        "for i in range(n_rows):\n",
        "  current_word = df_word_cloud.loc[i, 'word']\n",
        "  X[i, :] = get_embedding_vector(current_word)\n",
        "  print(f\"{i}: {current_word}\")"
      ],
      "metadata": {
        "colab": {
          "base_uri": "https://localhost:8080/"
        },
        "id": "GRZQ-V4fnauX",
        "outputId": "a91cf2b7-6e3e-4f84-d521-91803cead3ef"
      },
      "execution_count": 11,
      "outputs": [
        {
          "output_type": "stream",
          "name": "stdout",
          "text": [
            "0: numbers\n",
            "1: number\n",
            "2: though\n",
            "3: instance\n",
            "4: fact\n",
            "5: indicate\n",
            "6: moreover\n",
            "7: comparison\n",
            "8: figures\n",
            "9: although\n",
            "10: indeed\n",
            "11: example\n",
            "12: mean\n",
            "13: proportion\n",
            "14: same\n",
            "15: fewer\n",
            "16: seen\n",
            "17: indicates\n",
            "18: given\n",
            "19: ones\n",
            "20: music\n",
            "21: musical\n",
            "22: dance\n",
            "23: songs\n",
            "24: pop\n",
            "25: recording\n",
            "26: folk\n",
            "27: jazz\n",
            "28: concert\n",
            "29: musicians\n",
            "30: contemporary\n",
            "31: artists\n",
            "32: soundtrack\n",
            "33: hop\n",
            "34: studio\n",
            "35: song\n",
            "36: tunes\n",
            "37: singing\n",
            "38: band\n",
            "39: performing\n",
            "40: science\n",
            "41: sciences\n",
            "42: physics\n",
            "43: mathematics\n",
            "44: studies\n",
            "45: institute\n",
            "46: biology\n",
            "47: psychology\n",
            "48: research\n",
            "49: scientific\n",
            "50: humanities\n",
            "51: study\n",
            "52: economics\n",
            "53: literature\n",
            "54: sociology\n",
            "55: arts\n",
            "56: chemistry\n",
            "57: astronomy\n",
            "58: journalism\n",
            "59: professor\n",
            "60: art\n",
            "61: arts\n",
            "62: museum\n",
            "63: sculpture\n",
            "64: works\n",
            "65: photography\n",
            "66: contemporary\n",
            "67: painting\n",
            "68: gallery\n",
            "69: collection\n",
            "70: architecture\n",
            "71: exhibit\n",
            "72: exhibition\n",
            "73: artist\n",
            "74: collections\n",
            "75: culture\n",
            "76: architectural\n",
            "77: artwork\n",
            "78: paintings\n",
            "79: artistic\n",
            "80: society\n",
            "81: societies\n",
            "82: institution\n",
            "83: establishment\n",
            "84: established\n",
            "85: culture\n",
            "86: community\n",
            "87: ”\n",
            "88: organization\n",
            "89: foundation\n",
            "90: youth\n",
            "91: life\n",
            "92: history\n",
            "93: institute\n",
            "94: furthermore\n",
            "95: created\n",
            "96: “\n",
            "97: association\n",
            "98: organized\n",
            "99: cultural\n"
          ]
        }
      ]
    },
    {
      "cell_type": "code",
      "source": [
        "X"
      ],
      "metadata": {
        "colab": {
          "base_uri": "https://localhost:8080/"
        },
        "id": "qqWXluopoUzB",
        "outputId": "fcbde75b-f7c4-4c4c-fe20-dc3f69514c09"
      },
      "execution_count": 12,
      "outputs": [
        {
          "output_type": "execute_result",
          "data": {
            "text/plain": [
              "tensor([[-0.4527,  0.9526,  0.4424,  ...,  0.0189,  0.0202,  0.0712],\n",
              "        [-0.4549,  0.7088,  0.0523,  ..., -0.4229,  0.5860, -0.4241],\n",
              "        [-0.2005,  0.3965,  0.4197,  ..., -0.0372,  0.1970,  0.0616],\n",
              "        ...,\n",
              "        [ 0.7641, -0.1151, -0.6277,  ..., -0.4381,  1.4647, -0.4805],\n",
              "        [-0.2190,  0.2508, -1.3123,  ..., -0.1135,  0.7718,  0.0887],\n",
              "        [ 0.5046,  0.7310, -0.3632,  ..., -1.5342,  0.3148,  0.9248]])"
            ]
          },
          "metadata": {},
          "execution_count": 12
        }
      ]
    },
    {
      "cell_type": "code",
      "source": [
        "# Reduce the embedding to 2 dimensions for plotting purposes\n",
        "tsne = TSNE(n_components=2)\n",
        "\n",
        "X_tsne = tsne.fit_transform(X.cpu().numpy())"
      ],
      "metadata": {
        "id": "O2SnV-Jtm1Kr"
      },
      "execution_count": 14,
      "outputs": []
    },
    {
      "cell_type": "code",
      "source": [
        "X_tsne"
      ],
      "metadata": {
        "colab": {
          "base_uri": "https://localhost:8080/"
        },
        "id": "UApbIltRoqin",
        "outputId": "e12d9960-0d6f-40c6-83d2-7302d1f6d86c"
      },
      "execution_count": 15,
      "outputs": [
        {
          "output_type": "execute_result",
          "data": {
            "text/plain": [
              "array([[ 7.3066    , -1.4719852 ],\n",
              "       [ 7.4184065 , -2.0949361 ],\n",
              "       [ 5.2409844 , -2.1012168 ],\n",
              "       [ 4.1427236 , -1.1887126 ],\n",
              "       [ 4.737398  , -1.7780772 ],\n",
              "       [ 5.550452  ,  0.46357778],\n",
              "       [ 4.7747045 , -0.56723285],\n",
              "       [ 5.860372  , -0.4556977 ],\n",
              "       [ 7.7338176 , -0.69169974],\n",
              "       [ 5.086987  , -2.2436693 ],\n",
              "       [ 4.9242764 , -1.2810667 ],\n",
              "       [ 3.845128  , -1.5507702 ],\n",
              "       [ 5.9651413 , -1.1679739 ],\n",
              "       [ 6.9047318 ,  0.22792645],\n",
              "       [ 4.5119925 , -2.6708088 ],\n",
              "       [ 7.5957417 , -2.95088   ],\n",
              "       [ 5.9592643 , -2.0796504 ],\n",
              "       [ 5.5172677 ,  0.6809658 ],\n",
              "       [ 4.999113  , -3.0952284 ],\n",
              "       [ 6.203079  , -3.0528557 ],\n",
              "       [-3.4510531 ,  6.6182075 ],\n",
              "       [-3.5126047 ,  5.90435   ],\n",
              "       [-4.2628593 ,  6.0017886 ],\n",
              "       [-3.945494  ,  8.191486  ],\n",
              "       [-4.8015265 ,  7.265877  ],\n",
              "       [-1.9359934 ,  7.969129  ],\n",
              "       [-3.1293862 ,  5.2547927 ],\n",
              "       [-2.5618129 ,  5.995407  ],\n",
              "       [-2.7376082 ,  6.971626  ],\n",
              "       [-1.6461313 ,  5.9044967 ],\n",
              "       [-1.9709703 ,  3.339066  ],\n",
              "       [-1.174305  ,  5.582136  ],\n",
              "       [-3.1681786 ,  8.090794  ],\n",
              "       [-5.0547643 ,  7.1502028 ],\n",
              "       [-1.5352802 ,  7.972877  ],\n",
              "       [-3.7535195 ,  8.730281  ],\n",
              "       [-4.191259  ,  7.7980423 ],\n",
              "       [-4.7994666 ,  5.741907  ],\n",
              "       [-2.6478732 ,  8.935057  ],\n",
              "       [-4.486127  ,  4.994814  ],\n",
              "       [-4.2986403 , -4.422021  ],\n",
              "       [-3.8941414 , -4.003993  ],\n",
              "       [-5.7047954 , -5.007593  ],\n",
              "       [-5.298195  , -4.46447   ],\n",
              "       [-3.1140392 , -5.749269  ],\n",
              "       [-2.3020625 , -4.5182753 ],\n",
              "       [-6.175928  , -4.37032   ],\n",
              "       [-5.7906427 , -3.400031  ],\n",
              "       [-2.3778658 , -6.0138235 ],\n",
              "       [-2.1594384 , -6.5499635 ],\n",
              "       [-4.33595   , -3.3036351 ],\n",
              "       [-2.9806345 , -5.937054  ],\n",
              "       [-5.6609206 , -2.5329878 ],\n",
              "       [-3.079239  , -2.4063008 ],\n",
              "       [-5.6627674 , -3.1198637 ],\n",
              "       [-2.8315    , -0.41618997],\n",
              "       [-6.269254  , -4.9100895 ],\n",
              "       [-5.1658115 , -5.6644573 ],\n",
              "       [-4.279835  , -1.8145622 ],\n",
              "       [-6.360717  , -2.649271  ],\n",
              "       [ 0.05842534,  1.8785783 ],\n",
              "       [-2.8315    , -0.41618997],\n",
              "       [ 1.4120402 ,  1.7436873 ],\n",
              "       [ 0.9612531 ,  2.9150622 ],\n",
              "       [-0.24486743,  3.128991  ],\n",
              "       [-0.3246703 ,  2.2982247 ],\n",
              "       [-1.9709703 ,  3.339066  ],\n",
              "       [ 0.64652836,  3.4933176 ],\n",
              "       [ 1.6569793 ,  2.0630932 ],\n",
              "       [ 2.3968391 ,  4.1529336 ],\n",
              "       [-1.425018  ,  0.9228581 ],\n",
              "       [ 2.1314142 ,  2.4740815 ],\n",
              "       [ 2.3968778 ,  2.465126  ],\n",
              "       [-0.6042966 ,  5.0879126 ],\n",
              "       [ 2.5181277 ,  4.1800942 ],\n",
              "       [-0.25760853, -1.4758377 ],\n",
              "       [-1.5174551 ,  1.2408241 ],\n",
              "       [ 1.3182458 ,  4.5432706 ],\n",
              "       [ 0.9500734 ,  3.8949082 ],\n",
              "       [-2.3963294 ,  1.9710792 ],\n",
              "       [ 0.7850326 , -4.813289  ],\n",
              "       [ 0.8366723 , -4.9969316 ],\n",
              "       [ 0.5193614 , -3.8798497 ],\n",
              "       [ 1.8562262 , -3.829907  ],\n",
              "       [ 1.9335366 , -3.7026978 ],\n",
              "       [-0.25760853, -1.4758377 ],\n",
              "       [ 2.221699  , -4.9762154 ],\n",
              "       [ 2.6638532 , -0.8046045 ],\n",
              "       [ 2.0464175 , -5.8706465 ],\n",
              "       [-0.5075016 , -4.615108  ],\n",
              "       [ 3.0084703 , -5.4328804 ],\n",
              "       [ 3.465494  , -2.7775636 ],\n",
              "       [ 1.0631663 , -1.811751  ],\n",
              "       [-2.3021646 , -4.5182605 ],\n",
              "       [ 4.3301826 , -0.40890786],\n",
              "       [ 2.5226276 , -2.3188336 ],\n",
              "       [ 2.6099632 , -0.7287493 ],\n",
              "       [ 1.3984003 , -6.421036  ],\n",
              "       [ 2.9817731 , -4.704017  ],\n",
              "       [-0.68234086, -1.0879749 ]], dtype=float32)"
            ]
          },
          "metadata": {},
          "execution_count": 15
        }
      ]
    },
    {
      "cell_type": "code",
      "source": [
        "df_word_cloud['X'] = X_tsne[:, 0]\n",
        "df_word_cloud['y'] = X_tsne[:, 1]\n",
        "\n",
        "ggplot(data=df_word_cloud.sample(25)) + aes(x= 'X', y='y', label='word', color='category') + geom_text() + labs(title='GloVe Word Clustering')"
      ],
      "metadata": {
        "colab": {
          "base_uri": "https://localhost:8080/",
          "height": 514
        },
        "id": "le3oH_DgoyQ7",
        "outputId": "99fdb6ea-189a-48ad-8c3d-68b52e65c719"
      },
      "execution_count": 16,
      "outputs": [
        {
          "output_type": "display_data",
          "data": {
            "text/plain": [
              "<Figure size 640x480 with 1 Axes>"
            ],
            "image/png": "[encoded data removed]"
          },
          "metadata": {
            "image/png": {
              "width": 640,
              "height": 480
            }
          }
        },
        {
          "output_type": "execute_result",
          "data": {
            "text/plain": [
              "<Figure Size: (640 x 480)>"
            ]
          },
          "metadata": {},
          "execution_count": 16
        }
      ]
    },
    {
      "cell_type": "code",
      "source": [],
      "metadata": {
        "id": "F3QgmOo9pVmv"
      },
      "execution_count": null,
      "outputs": []
    }
  ]
}