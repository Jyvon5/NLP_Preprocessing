{
 "cells": [
  {
   "cell_type": "code",
   "execution_count": 1,
   "id": "cbe6fb9f-c6cd-40b0-a8b2-116f2672dc47",
   "metadata": {},
   "outputs": [
    {
     "name": "stderr",
     "output_type": "stream",
     "text": [
      "/opt/homebrew/anaconda3/lib/python3.12/site-packages/sentence_transformers/cross_encoder/CrossEncoder.py:11: TqdmExperimentalWarning: Using `tqdm.autonotebook.tqdm` in notebook mode. Use `tqdm.tqdm` instead to force console mode (e.g. in jupyter console)\n",
      "  from tqdm.autonotebook import tqdm, trange\n"
     ]
    }
   ],
   "source": [
    "import numpy as np\n",
    "import pandas as pd\n",
    "import pickle\n",
    "from collections import Counter\n",
    "import seaborn as sns\n",
    "\n",
    "from sklearn.model_selection import train_test_split\n",
    "from sklearn.metrics import accuracy_score\n",
    "\n",
    "import torch\n",
    "import torch.nn as nn\n",
    "from torch.utils.data import Dataset, DataLoader\n",
    "\n",
    "from sentence_transformers import SentenceTransformer"
   ]
  },
  {
   "cell_type": "code",
   "execution_count": 2,
   "id": "6f999692-40a1-43c4-bb27-9d2ac2693cd5",
   "metadata": {},
   "outputs": [],
   "source": [
    "df = pd.read_csv('data/Tweets.csv')"
   ]
  },
  {
   "cell_type": "code",
   "execution_count": 3,
   "id": "a8a5bffa-34cf-4ed2-8638-820f2b9db99f",
   "metadata": {},
   "outputs": [
    {
     "data": {
      "text/plain": [
       "textID           0\n",
       "text             1\n",
       "selected_text    1\n",
       "sentiment        0\n",
       "dtype: int64"
      ]
     },
     "execution_count": 3,
     "metadata": {},
     "output_type": "execute_result"
    }
   ],
   "source": [
    "df.isna().sum()"
   ]
  },
  {
   "cell_type": "code",
   "execution_count": 4,
   "id": "9ff77308-27dd-483f-ac5a-500434823452",
   "metadata": {},
   "outputs": [],
   "source": [
    "df = df.dropna()"
   ]
  },
  {
   "cell_type": "code",
   "execution_count": 5,
   "id": "f1db72eb-f4b5-4c97-ae91-3e6663ba01ac",
   "metadata": {},
   "outputs": [
    {
     "data": {
      "text/html": [
       "<div>\n",
       "<style scoped>\n",
       "    .dataframe tbody tr th:only-of-type {\n",
       "        vertical-align: middle;\n",
       "    }\n",
       "\n",
       "    .dataframe tbody tr th {\n",
       "        vertical-align: top;\n",
       "    }\n",
       "\n",
       "    .dataframe thead th {\n",
       "        text-align: right;\n",
       "    }\n",
       "</style>\n",
       "<table border=\"1\" class=\"dataframe\">\n",
       "  <thead>\n",
       "    <tr style=\"text-align: right;\">\n",
       "      <th></th>\n",
       "      <th>textID</th>\n",
       "      <th>text</th>\n",
       "      <th>selected_text</th>\n",
       "      <th>sentiment</th>\n",
       "    </tr>\n",
       "  </thead>\n",
       "  <tbody>\n",
       "    <tr>\n",
       "      <th>0</th>\n",
       "      <td>cb774db0d1</td>\n",
       "      <td>I`d have responded, if I were going</td>\n",
       "      <td>I`d have responded, if I were going</td>\n",
       "      <td>neutral</td>\n",
       "    </tr>\n",
       "    <tr>\n",
       "      <th>1</th>\n",
       "      <td>549e992a42</td>\n",
       "      <td>Sooo SAD I will miss you here in San Diego!!!</td>\n",
       "      <td>Sooo SAD</td>\n",
       "      <td>negative</td>\n",
       "    </tr>\n",
       "    <tr>\n",
       "      <th>2</th>\n",
       "      <td>088c60f138</td>\n",
       "      <td>my boss is bullying me...</td>\n",
       "      <td>bullying me</td>\n",
       "      <td>negative</td>\n",
       "    </tr>\n",
       "    <tr>\n",
       "      <th>3</th>\n",
       "      <td>9642c003ef</td>\n",
       "      <td>what interview! leave me alone</td>\n",
       "      <td>leave me alone</td>\n",
       "      <td>negative</td>\n",
       "    </tr>\n",
       "    <tr>\n",
       "      <th>4</th>\n",
       "      <td>358bd9e861</td>\n",
       "      <td>Sons of ****, why couldn`t they put them on t...</td>\n",
       "      <td>Sons of ****,</td>\n",
       "      <td>negative</td>\n",
       "    </tr>\n",
       "  </tbody>\n",
       "</table>\n",
       "</div>"
      ],
      "text/plain": [
       "       textID                                               text  \\\n",
       "0  cb774db0d1                I`d have responded, if I were going   \n",
       "1  549e992a42      Sooo SAD I will miss you here in San Diego!!!   \n",
       "2  088c60f138                          my boss is bullying me...   \n",
       "3  9642c003ef                     what interview! leave me alone   \n",
       "4  358bd9e861   Sons of ****, why couldn`t they put them on t...   \n",
       "\n",
       "                         selected_text sentiment  \n",
       "0  I`d have responded, if I were going   neutral  \n",
       "1                             Sooo SAD  negative  \n",
       "2                          bullying me  negative  \n",
       "3                       leave me alone  negative  \n",
       "4                        Sons of ****,  negative  "
      ]
     },
     "execution_count": 5,
     "metadata": {},
     "output_type": "execute_result"
    }
   ],
   "source": [
    "df.head()"
   ]
  },
  {
   "cell_type": "code",
   "execution_count": 6,
   "id": "fb57d6f3-d181-4522-a771-5ac296eb5a14",
   "metadata": {},
   "outputs": [],
   "source": [
    "cat_id = {\n",
    "    'neutral': 1,\n",
    "    'negative': 0,\n",
    "    'positive': 2\n",
    "}\n",
    "\n",
    "df['class'] = df['sentiment'].map(cat_id)"
   ]
  },
  {
   "cell_type": "code",
   "execution_count": 7,
   "id": "e4a23450-db62-40dd-981d-4f0afe7c8820",
   "metadata": {},
   "outputs": [
    {
     "data": {
      "text/html": [
       "<div>\n",
       "<style scoped>\n",
       "    .dataframe tbody tr th:only-of-type {\n",
       "        vertical-align: middle;\n",
       "    }\n",
       "\n",
       "    .dataframe tbody tr th {\n",
       "        vertical-align: top;\n",
       "    }\n",
       "\n",
       "    .dataframe thead th {\n",
       "        text-align: right;\n",
       "    }\n",
       "</style>\n",
       "<table border=\"1\" class=\"dataframe\">\n",
       "  <thead>\n",
       "    <tr style=\"text-align: right;\">\n",
       "      <th></th>\n",
       "      <th>textID</th>\n",
       "      <th>text</th>\n",
       "      <th>selected_text</th>\n",
       "      <th>sentiment</th>\n",
       "      <th>class</th>\n",
       "    </tr>\n",
       "  </thead>\n",
       "  <tbody>\n",
       "    <tr>\n",
       "      <th>0</th>\n",
       "      <td>cb774db0d1</td>\n",
       "      <td>I`d have responded, if I were going</td>\n",
       "      <td>I`d have responded, if I were going</td>\n",
       "      <td>neutral</td>\n",
       "      <td>1</td>\n",
       "    </tr>\n",
       "    <tr>\n",
       "      <th>1</th>\n",
       "      <td>549e992a42</td>\n",
       "      <td>Sooo SAD I will miss you here in San Diego!!!</td>\n",
       "      <td>Sooo SAD</td>\n",
       "      <td>negative</td>\n",
       "      <td>0</td>\n",
       "    </tr>\n",
       "    <tr>\n",
       "      <th>2</th>\n",
       "      <td>088c60f138</td>\n",
       "      <td>my boss is bullying me...</td>\n",
       "      <td>bullying me</td>\n",
       "      <td>negative</td>\n",
       "      <td>0</td>\n",
       "    </tr>\n",
       "    <tr>\n",
       "      <th>3</th>\n",
       "      <td>9642c003ef</td>\n",
       "      <td>what interview! leave me alone</td>\n",
       "      <td>leave me alone</td>\n",
       "      <td>negative</td>\n",
       "      <td>0</td>\n",
       "    </tr>\n",
       "    <tr>\n",
       "      <th>4</th>\n",
       "      <td>358bd9e861</td>\n",
       "      <td>Sons of ****, why couldn`t they put them on t...</td>\n",
       "      <td>Sons of ****,</td>\n",
       "      <td>negative</td>\n",
       "      <td>0</td>\n",
       "    </tr>\n",
       "  </tbody>\n",
       "</table>\n",
       "</div>"
      ],
      "text/plain": [
       "       textID                                               text  \\\n",
       "0  cb774db0d1                I`d have responded, if I were going   \n",
       "1  549e992a42      Sooo SAD I will miss you here in San Diego!!!   \n",
       "2  088c60f138                          my boss is bullying me...   \n",
       "3  9642c003ef                     what interview! leave me alone   \n",
       "4  358bd9e861   Sons of ****, why couldn`t they put them on t...   \n",
       "\n",
       "                         selected_text sentiment  class  \n",
       "0  I`d have responded, if I were going   neutral      1  \n",
       "1                             Sooo SAD  negative      0  \n",
       "2                          bullying me  negative      0  \n",
       "3                       leave me alone  negative      0  \n",
       "4                        Sons of ****,  negative      0  "
      ]
     },
     "execution_count": 7,
     "metadata": {},
     "output_type": "execute_result"
    }
   ],
   "source": [
    "df.head()"
   ]
  },
  {
   "cell_type": "code",
   "execution_count": 30,
   "id": "f00c987b-f9ed-4c10-90a3-b93eb68836b3",
   "metadata": {},
   "outputs": [],
   "source": [
    "# Hyperparams\n",
    "BATCH_SIZE = 128\n",
    "NUM_EPOCHS = 160\n",
    "MAX_FEATURES = 10"
   ]
  },
  {
   "cell_type": "code",
   "execution_count": 9,
   "id": "52499464-dae6-4b86-bf07-17626a05192f",
   "metadata": {},
   "outputs": [
    {
     "data": {
      "application/vnd.jupyter.widget-view+json": {
       "model_id": "c1f5fb1bdc534890a6c70421e6d47d55",
       "version_major": 2,
       "version_minor": 0
      },
      "text/plain": [
       "modules.json:   0%|          | 0.00/349 [00:00<?, ?B/s]"
      ]
     },
     "metadata": {},
     "output_type": "display_data"
    },
    {
     "data": {
      "application/vnd.jupyter.widget-view+json": {
       "model_id": "b384449d5817443d90bbaf3e2df72df7",
       "version_major": 2,
       "version_minor": 0
      },
      "text/plain": [
       "config_sentence_transformers.json:   0%|          | 0.00/116 [00:00<?, ?B/s]"
      ]
     },
     "metadata": {},
     "output_type": "display_data"
    },
    {
     "data": {
      "application/vnd.jupyter.widget-view+json": {
       "model_id": "5d1ebd952988447e9360329b112269a5",
       "version_major": 2,
       "version_minor": 0
      },
      "text/plain": [
       "README.md:   0%|          | 0.00/10.6k [00:00<?, ?B/s]"
      ]
     },
     "metadata": {},
     "output_type": "display_data"
    },
    {
     "data": {
      "application/vnd.jupyter.widget-view+json": {
       "model_id": "8d0cc5278b234a6d8cbb65a5715df5bc",
       "version_major": 2,
       "version_minor": 0
      },
      "text/plain": [
       "sentence_bert_config.json:   0%|          | 0.00/53.0 [00:00<?, ?B/s]"
      ]
     },
     "metadata": {},
     "output_type": "display_data"
    },
    {
     "data": {
      "application/vnd.jupyter.widget-view+json": {
       "model_id": "0794f7f30fd94aeb84789783ab34daee",
       "version_major": 2,
       "version_minor": 0
      },
      "text/plain": [
       "config.json:   0%|          | 0.00/571 [00:00<?, ?B/s]"
      ]
     },
     "metadata": {},
     "output_type": "display_data"
    },
    {
     "data": {
      "application/vnd.jupyter.widget-view+json": {
       "model_id": "4bf455c2692a43329801a6a7e1ddffc0",
       "version_major": 2,
       "version_minor": 0
      },
      "text/plain": [
       "model.safetensors:   0%|          | 0.00/438M [00:00<?, ?B/s]"
      ]
     },
     "metadata": {},
     "output_type": "display_data"
    },
    {
     "data": {
      "application/vnd.jupyter.widget-view+json": {
       "model_id": "856c96af2a30483a9d3575d9035c016f",
       "version_major": 2,
       "version_minor": 0
      },
      "text/plain": [
       "tokenizer_config.json:   0%|          | 0.00/363 [00:00<?, ?B/s]"
      ]
     },
     "metadata": {},
     "output_type": "display_data"
    },
    {
     "data": {
      "application/vnd.jupyter.widget-view+json": {
       "model_id": "f99b051e7fb141d58d84718623483249",
       "version_major": 2,
       "version_minor": 0
      },
      "text/plain": [
       "vocab.txt:   0%|          | 0.00/232k [00:00<?, ?B/s]"
      ]
     },
     "metadata": {},
     "output_type": "display_data"
    },
    {
     "data": {
      "application/vnd.jupyter.widget-view+json": {
       "model_id": "61acf219c2564010b8083b6b046af0ec",
       "version_major": 2,
       "version_minor": 0
      },
      "text/plain": [
       "tokenizer.json:   0%|          | 0.00/466k [00:00<?, ?B/s]"
      ]
     },
     "metadata": {},
     "output_type": "display_data"
    },
    {
     "data": {
      "application/vnd.jupyter.widget-view+json": {
       "model_id": "089baac8012b426f9c84e35112e0937d",
       "version_major": 2,
       "version_minor": 0
      },
      "text/plain": [
       "special_tokens_map.json:   0%|          | 0.00/239 [00:00<?, ?B/s]"
      ]
     },
     "metadata": {},
     "output_type": "display_data"
    },
    {
     "data": {
      "application/vnd.jupyter.widget-view+json": {
       "model_id": "9b9b49eda1dc44959a3e4136bbc30cf0",
       "version_major": 2,
       "version_minor": 0
      },
      "text/plain": [
       "1_Pooling/config.json:   0%|          | 0.00/190 [00:00<?, ?B/s]"
      ]
     },
     "metadata": {},
     "output_type": "display_data"
    }
   ],
   "source": [
    "# Embeddings model\n",
    "emb_model = SentenceTransformer('sentence-transformers/all-mpnet-base-v2')"
   ]
  },
  {
   "cell_type": "code",
   "execution_count": 10,
   "id": "72faf1c9-6241-4401-943f-eb1619b5c346",
   "metadata": {},
   "outputs": [
    {
     "name": "stderr",
     "output_type": "stream",
     "text": [
      "/opt/homebrew/anaconda3/lib/python3.12/site-packages/transformers/models/mpnet/modeling_mpnet.py:1051: UserWarning: cumsum_out_mps supported by MPS on MacOS 13+, please upgrade (Triggered internally at /Users/runner/work/pytorch/pytorch/pytorch/aten/src/ATen/native/mps/operations/UnaryOps.mm:452.)\n",
      "  incremental_indices = torch.cumsum(mask, dim=1).type_as(mask) * mask\n"
     ]
    },
    {
     "name": "stdout",
     "output_type": "stream",
     "text": [
      "(768,)\n"
     ]
    }
   ],
   "source": [
    "sentences = [\"Each sentence is converted\"]\n",
    "embeddings = emb_model.encode(sentences)\n",
    "print(embeddings.squeeze().shape)"
   ]
  },
  {
   "cell_type": "code",
   "execution_count": 11,
   "id": "2d8fc505-2c85-44d2-8a6c-2bdb53df91ac",
   "metadata": {},
   "outputs": [],
   "source": [
    "# embedding the df\n",
    "X = emb_model.encode(df['text'].values)"
   ]
  },
  {
   "cell_type": "code",
   "execution_count": 12,
   "id": "f050d943-aa28-4246-ad4c-48cf918dd42c",
   "metadata": {},
   "outputs": [],
   "source": [
    "with open(\"tweets_X.pkl\", \"wb\") as output_file:\n",
    "  pickle.dump(X, output_file)"
   ]
  },
  {
   "cell_type": "code",
   "execution_count": 14,
   "id": "9ac313d9-33f7-4c4e-9599-0cb4c726e970",
   "metadata": {},
   "outputs": [],
   "source": [
    "with open(\"tweets_X.pkl\", \"rb\") as input_file:\n",
    "  X = pickle.load(input_file)"
   ]
  },
  {
   "cell_type": "code",
   "execution_count": 15,
   "id": "7356fecb-5c47-482f-97b0-a3eae7423520",
   "metadata": {},
   "outputs": [],
   "source": [
    "y = df['class'].values"
   ]
  },
  {
   "cell_type": "code",
   "execution_count": 16,
   "id": "3337c397-fa81-4dd2-af29-25298f5047ad",
   "metadata": {},
   "outputs": [],
   "source": [
    "X_train, X_test, y_train, y_test = train_test_split(X, y, test_size=0.2, random_state=0)"
   ]
  },
  {
   "cell_type": "code",
   "execution_count": 17,
   "id": "77fa48cb-2120-4805-8861-1b6468da5391",
   "metadata": {},
   "outputs": [],
   "source": [
    "class SentimentData(Dataset):\n",
    "    def __init__(self, X, y):\n",
    "        super().__init__()\n",
    "        self.X = torch.Tensor(X)\n",
    "        self.y = torch.Tensor(y).type(torch.LongTensor)\n",
    "        self.len = len(self.X)\n",
    "\n",
    "    def __len__(self):\n",
    "        return self.len\n",
    "\n",
    "    def __getitem__(self, index):\n",
    "        return self.X[index], self.y[index]"
   ]
  },
  {
   "cell_type": "code",
   "execution_count": 18,
   "id": "356b6d6f-814a-4a1e-941f-deb6c7e640b7",
   "metadata": {},
   "outputs": [],
   "source": [
    "train_ds = SentimentData(X=X_train, y=y_train)\n",
    "\n",
    "test_ds = SentimentData(X=X_test, y=y_test)"
   ]
  },
  {
   "cell_type": "code",
   "execution_count": 21,
   "id": "18d0d2c7-50c5-4c8c-ba8d-90d068693ebf",
   "metadata": {},
   "outputs": [],
   "source": [
    "# Dataloader\n",
    "train_loader = DataLoader(dataset=train_ds, batch_size=BATCH_SIZE, shuffle=True)\n",
    "test_loader = DataLoader(dataset=test_ds, batch_size=15000)"
   ]
  },
  {
   "cell_type": "code",
   "execution_count": 26,
   "id": "931862d2-2fab-46f9-84c7-86972ea71bed",
   "metadata": {},
   "outputs": [],
   "source": [
    "# Model building\n",
    "class SentimentModel(nn.Module):\n",
    "    def __init__(self, NUM_FEATURES, NUM_CLASSES, HIDDEN=10):\n",
    "        super().__init__()\n",
    "        self.linear = nn.Linear(NUM_FEATURES, HIDDEN)\n",
    "        self.linear2 = nn.Linear(HIDDEN, NUM_CLASSES)\n",
    "        self.relu = nn.ReLU()\n",
    "        self.log_softmax = nn.LogSoftmax(dim=1)\n",
    "\n",
    "    def forward(self, x):\n",
    "        x = self.linear(x)\n",
    "        x = self.relu(x)\n",
    "        x = self.linear2(x)\n",
    "        x = self.log_softmax(x)\n",
    "        return x"
   ]
  },
  {
   "cell_type": "markdown",
   "id": "cb43a192-35b3-4e3e-89d3-4b2a505edbea",
   "metadata": {},
   "source": [
    "# Model, Loss, and Optimizer"
   ]
  },
  {
   "cell_type": "code",
   "execution_count": 31,
   "id": "92831b13-cc6a-408c-9b5c-608fef61a403",
   "metadata": {},
   "outputs": [],
   "source": [
    "model = SentimentModel(NUM_FEATURES=X_train.shape[1], NUM_CLASSES=3)\n",
    "\n",
    "criterion = nn.CrossEntropyLoss()\n",
    "optimizer = torch.optim.AdamW(model.parameters())"
   ]
  },
  {
   "cell_type": "code",
   "execution_count": 32,
   "id": "3e9c992b-1f6a-4202-a1d3-77a890d6ecf0",
   "metadata": {},
   "outputs": [
    {
     "name": "stdout",
     "output_type": "stream",
     "text": [
      "Epoch 1, Loss: 173.25608414411545\n",
      "Epoch 2, Loss: 136.51470059156418\n",
      "Epoch 3, Loss: 128.73412269353867\n",
      "Epoch 4, Loss: 126.04770791530609\n",
      "Epoch 5, Loss: 124.45386338233948\n",
      "Epoch 6, Loss: 123.36188501119614\n",
      "Epoch 7, Loss: 122.45333844423294\n",
      "Epoch 8, Loss: 121.78646099567413\n",
      "Epoch 9, Loss: 121.10618823766708\n",
      "Epoch 10, Loss: 120.45433473587036\n",
      "Epoch 11, Loss: 119.9791749715805\n",
      "Epoch 12, Loss: 119.28361856937408\n",
      "Epoch 13, Loss: 118.73058170080185\n",
      "Epoch 14, Loss: 118.13171809911728\n",
      "Epoch 15, Loss: 117.59503227472305\n",
      "Epoch 16, Loss: 117.11957037448883\n",
      "Epoch 17, Loss: 116.68004608154297\n",
      "Epoch 18, Loss: 116.2233167886734\n",
      "Epoch 19, Loss: 115.72534936666489\n",
      "Epoch 20, Loss: 115.3547887802124\n",
      "Epoch 21, Loss: 114.96706223487854\n",
      "Epoch 22, Loss: 114.59680128097534\n",
      "Epoch 23, Loss: 114.11391282081604\n",
      "Epoch 24, Loss: 113.7494820356369\n",
      "Epoch 25, Loss: 113.42227840423584\n",
      "Epoch 26, Loss: 112.98215344548225\n",
      "Epoch 27, Loss: 112.64280891418457\n",
      "Epoch 28, Loss: 112.33467537164688\n",
      "Epoch 29, Loss: 111.96465474367142\n",
      "Epoch 30, Loss: 111.76088237762451\n",
      "Epoch 31, Loss: 111.395044028759\n",
      "Epoch 32, Loss: 111.1130096912384\n",
      "Epoch 33, Loss: 110.81185561418533\n",
      "Epoch 34, Loss: 110.54615145921707\n",
      "Epoch 35, Loss: 110.26158544421196\n",
      "Epoch 36, Loss: 110.000497341156\n",
      "Epoch 37, Loss: 109.70752051472664\n",
      "Epoch 38, Loss: 109.4197735786438\n",
      "Epoch 39, Loss: 109.20449247956276\n",
      "Epoch 40, Loss: 108.94415447115898\n",
      "Epoch 41, Loss: 108.65235045552254\n",
      "Epoch 42, Loss: 108.44603943824768\n",
      "Epoch 43, Loss: 108.12327966094017\n",
      "Epoch 44, Loss: 107.8789684176445\n",
      "Epoch 45, Loss: 107.61994409561157\n",
      "Epoch 46, Loss: 107.4409067928791\n",
      "Epoch 47, Loss: 107.2140357196331\n",
      "Epoch 48, Loss: 106.94176778197289\n",
      "Epoch 49, Loss: 106.70614928007126\n",
      "Epoch 50, Loss: 106.48272225260735\n",
      "Epoch 51, Loss: 106.27932694554329\n",
      "Epoch 52, Loss: 105.99999353289604\n",
      "Epoch 53, Loss: 105.80889549851418\n",
      "Epoch 54, Loss: 105.58243477344513\n",
      "Epoch 55, Loss: 105.38172996044159\n",
      "Epoch 56, Loss: 105.17202436923981\n",
      "Epoch 57, Loss: 104.94748347997665\n",
      "Epoch 58, Loss: 104.6886371076107\n",
      "Epoch 59, Loss: 104.4753360748291\n",
      "Epoch 60, Loss: 104.21830895543098\n",
      "Epoch 61, Loss: 104.14994493126869\n",
      "Epoch 62, Loss: 103.85897570848465\n",
      "Epoch 63, Loss: 103.66534996032715\n",
      "Epoch 64, Loss: 103.41682642698288\n",
      "Epoch 65, Loss: 103.19961002469063\n",
      "Epoch 66, Loss: 103.01860377192497\n",
      "Epoch 67, Loss: 102.7760306596756\n",
      "Epoch 68, Loss: 102.61687734723091\n",
      "Epoch 69, Loss: 102.39628171920776\n",
      "Epoch 70, Loss: 102.23462074995041\n",
      "Epoch 71, Loss: 101.99120861291885\n",
      "Epoch 72, Loss: 101.93057921528816\n",
      "Epoch 73, Loss: 101.65397110581398\n",
      "Epoch 74, Loss: 101.41390043497086\n",
      "Epoch 75, Loss: 101.23238977789879\n",
      "Epoch 76, Loss: 101.12990620732307\n",
      "Epoch 77, Loss: 100.88464459776878\n",
      "Epoch 78, Loss: 100.74196830391884\n",
      "Epoch 79, Loss: 100.53743979334831\n",
      "Epoch 80, Loss: 100.3760721385479\n",
      "Epoch 81, Loss: 100.24043753743172\n",
      "Epoch 82, Loss: 100.03279510140419\n",
      "Epoch 83, Loss: 99.88955280184746\n",
      "Epoch 84, Loss: 99.6813505589962\n",
      "Epoch 85, Loss: 99.51575401425362\n",
      "Epoch 86, Loss: 99.35370966792107\n",
      "Epoch 87, Loss: 99.14607700705528\n",
      "Epoch 88, Loss: 99.08625575900078\n",
      "Epoch 89, Loss: 98.87700018286705\n",
      "Epoch 90, Loss: 98.74998760223389\n",
      "Epoch 91, Loss: 98.6032126545906\n",
      "Epoch 92, Loss: 98.45239001512527\n",
      "Epoch 93, Loss: 98.22344800829887\n",
      "Epoch 94, Loss: 98.05620813369751\n",
      "Epoch 95, Loss: 97.94769710302353\n",
      "Epoch 96, Loss: 97.76323774456978\n",
      "Epoch 97, Loss: 97.65304040908813\n",
      "Epoch 98, Loss: 97.50014334917068\n",
      "Epoch 99, Loss: 97.36765277385712\n",
      "Epoch 100, Loss: 97.19252154231071\n",
      "Epoch 101, Loss: 97.0859923362732\n",
      "Epoch 102, Loss: 96.93551269173622\n",
      "Epoch 103, Loss: 96.77526167035103\n",
      "Epoch 104, Loss: 96.65956738591194\n",
      "Epoch 105, Loss: 96.46464768052101\n",
      "Epoch 106, Loss: 96.42160221934319\n",
      "Epoch 107, Loss: 96.18802887201309\n",
      "Epoch 108, Loss: 96.16727891564369\n",
      "Epoch 109, Loss: 95.98021006584167\n",
      "Epoch 110, Loss: 95.82864907383919\n",
      "Epoch 111, Loss: 95.69098788499832\n",
      "Epoch 112, Loss: 95.56349098682404\n",
      "Epoch 113, Loss: 95.46469676494598\n",
      "Epoch 114, Loss: 95.3311277627945\n",
      "Epoch 115, Loss: 95.21126148104668\n",
      "Epoch 116, Loss: 95.05875396728516\n",
      "Epoch 117, Loss: 94.97747755050659\n",
      "Epoch 118, Loss: 94.84740874171257\n",
      "Epoch 119, Loss: 94.74968564510345\n",
      "Epoch 120, Loss: 94.56413877010345\n",
      "Epoch 121, Loss: 94.50801342725754\n",
      "Epoch 122, Loss: 94.29121389985085\n",
      "Epoch 123, Loss: 94.34853434562683\n",
      "Epoch 124, Loss: 94.17474231123924\n",
      "Epoch 125, Loss: 94.10255140066147\n",
      "Epoch 126, Loss: 93.90205070376396\n",
      "Epoch 127, Loss: 93.83778634667397\n",
      "Epoch 128, Loss: 93.64059981703758\n",
      "Epoch 129, Loss: 93.646509796381\n",
      "Epoch 130, Loss: 93.51526695489883\n",
      "Epoch 131, Loss: 93.31235894560814\n",
      "Epoch 132, Loss: 93.27786147594452\n",
      "Epoch 133, Loss: 93.14610993862152\n",
      "Epoch 134, Loss: 92.99996718764305\n",
      "Epoch 135, Loss: 92.87084800004959\n",
      "Epoch 136, Loss: 92.80664336681366\n",
      "Epoch 137, Loss: 92.65047335624695\n",
      "Epoch 138, Loss: 92.73188424110413\n",
      "Epoch 139, Loss: 92.49872452020645\n",
      "Epoch 140, Loss: 92.41025301814079\n",
      "Epoch 141, Loss: 92.27461832761765\n",
      "Epoch 142, Loss: 92.15121161937714\n",
      "Epoch 143, Loss: 92.1468568444252\n",
      "Epoch 144, Loss: 91.9781114757061\n",
      "Epoch 145, Loss: 91.84762650728226\n",
      "Epoch 146, Loss: 91.77734643220901\n",
      "Epoch 147, Loss: 91.70121970772743\n",
      "Epoch 148, Loss: 91.55202859640121\n",
      "Epoch 149, Loss: 91.49616584181786\n",
      "Epoch 150, Loss: 91.4466906785965\n",
      "Epoch 151, Loss: 91.34184768795967\n",
      "Epoch 152, Loss: 91.22222423553467\n",
      "Epoch 153, Loss: 91.1416012942791\n",
      "Epoch 154, Loss: 91.05687353014946\n",
      "Epoch 155, Loss: 90.94821161031723\n",
      "Epoch 156, Loss: 90.7706852555275\n",
      "Epoch 157, Loss: 90.67462447285652\n",
      "Epoch 158, Loss: 90.71745756268501\n",
      "Epoch 159, Loss: 90.61448112130165\n",
      "Epoch 160, Loss: 90.45912542939186\n"
     ]
    }
   ],
   "source": [
    "# Model training loop\n",
    "\n",
    "train_losses = []\n",
    "\n",
    "for e in range(NUM_EPOCHS):\n",
    "    curr_loss = 0\n",
    "    for X_batch, y_batch in train_loader:\n",
    "        optimizer.zero_grad()\n",
    "        y_pred_log = model(X_batch)\n",
    "        loss = criterion(y_pred_log, y_batch.long())\n",
    "\n",
    "        curr_loss += loss.item()\n",
    "        loss.backward()\n",
    "        optimizer.step()\n",
    "    train_losses.append(curr_loss)\n",
    "    print(f\"Epoch {e+1}, Loss: {curr_loss}\")"
   ]
  },
  {
   "cell_type": "markdown",
   "id": "c3edd370-00c0-4f45-9334-86bad2a79c29",
   "metadata": {},
   "source": [
    "# Looking at training results"
   ]
  },
  {
   "cell_type": "code",
   "execution_count": 33,
   "id": "5914ce8f-1177-456a-b0e5-28003ceaac10",
   "metadata": {},
   "outputs": [
    {
     "data": {
      "text/plain": [
       "<Axes: >"
      ]
     },
     "execution_count": 33,
     "metadata": {},
     "output_type": "execute_result"
    },
    {
     "data": {
      "image/png": "[encoded data removed]",
      "text/plain": [
       "<Figure size 640x480 with 1 Axes>"
      ]
     },
     "metadata": {},
     "output_type": "display_data"
    }
   ],
   "source": [
    "sns.lineplot(x=list(range(len(train_losses))), y=train_losses)"
   ]
  },
  {
   "cell_type": "markdown",
   "id": "cc90ce7c-0b16-4499-8b3a-836a2256b93b",
   "metadata": {},
   "source": [
    "# Model Performance"
   ]
  },
  {
   "cell_type": "code",
   "execution_count": 34,
   "id": "b9e01287-138c-4bd9-ad4b-824fe6171c04",
   "metadata": {},
   "outputs": [],
   "source": [
    "with torch.no_grad():\n",
    "    for X_batch, y_batch in test_loader:\n",
    "        y_test_pred_log = model(X_batch)\n",
    "        y_test_pred = torch.argmax(y_test_pred_log, dim=1)"
   ]
  },
  {
   "cell_type": "code",
   "execution_count": 35,
   "id": "023be916-57ca-41d9-8880-a6f357a957be",
   "metadata": {},
   "outputs": [],
   "source": [
    "y_test_pred_np = y_test_pred.squeeze().cpu().numpy()"
   ]
  },
  {
   "cell_type": "code",
   "execution_count": 36,
   "id": "cdfaa68b-d5ef-4c35-b27f-2a8c289f1703",
   "metadata": {},
   "outputs": [
    {
     "data": {
      "text/plain": [
       "'The accuracy of the model is 67.7%.'"
      ]
     },
     "execution_count": 36,
     "metadata": {},
     "output_type": "execute_result"
    }
   ],
   "source": [
    "acc = accuracy_score(y_pred=y_test_pred_np, y_true=y_test)\n",
    "f\"The accuracy of the model is {np.round(acc,3)*100}%.\""
   ]
  },
  {
   "cell_type": "code",
   "execution_count": 37,
   "id": "30264301-ae46-43ea-834b-c31ff2b5819f",
   "metadata": {},
   "outputs": [
    {
     "name": "stdout",
     "output_type": "stream",
     "text": [
      "Naive Classifier: 41.4 %\n"
     ]
    }
   ],
   "source": [
    "## Naive classifier to show model does indeed perform better than the most likely scenario\n",
    "\n",
    "most_common_count = Counter(y_test).most_common()[0][1]\n",
    "print(f\"Naive Classifier: {np.round(most_common_count / len(y_test) * 100, 1)} %\")"
   ]
  },
  {
   "cell_type": "code",
   "execution_count": 39,
   "id": "fedefeb8-297c-4461-851d-65443cd1b995",
   "metadata": {},
   "outputs": [
    {
     "data": {
      "text/plain": [
       "<Axes: >"
      ]
     },
     "execution_count": 39,
     "metadata": {},
     "output_type": "execute_result"
    },
    {
     "data": {
      "image/png": "[encoded data removed]",
      "text/plain": [
       "<Figure size 640x480 with 2 Axes>"
      ]
     },
     "metadata": {},
     "output_type": "display_data"
    }
   ],
   "source": [
    "from sklearn.metrics import confusion_matrix\n",
    "\n",
    "sns.heatmap(confusion_matrix(y_test_pred_np, y_test), annot=True, fmt=\".0f\")"
   ]
  },
  {
   "cell_type": "code",
   "execution_count": null,
   "id": "2043dd52-0e98-46d3-957a-dea89aa5a599",
   "metadata": {},
   "outputs": [],
   "source": []
  }
 ],
 "metadata": {
  "kernelspec": {
   "display_name": "Python 3 (ipykernel)",
   "language": "python",
   "name": "python3"
  },
  "language_info": {
   "codemirror_mode": {
    "name": "ipython",
    "version": 3
   },
   "file_extension": ".py",
   "mimetype": "text/x-python",
   "name": "python",
   "nbconvert_exporter": "python",
   "pygments_lexer": "ipython3",
   "version": "3.12.4"
  }
 },
 "nbformat": 4,
 "nbformat_minor": 5
}
