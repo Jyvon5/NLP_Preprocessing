{
 "cells": [
  {
   "cell_type": "code",
   "execution_count": 1,
   "id": "0c57958e-d6fa-48fa-9cb3-66412f395803",
   "metadata": {},
   "outputs": [],
   "source": [
    "import pandas as pd\n",
    "import numpy as np\n",
    "from collections import Counter\n",
    "from sklearn.feature_extraction.text import CountVectorizer\n",
    "from sklearn.model_selection import train_test_split\n",
    "from sklearn.metrics import accuracy_score, confusion_matrix"
   ]
  },
  {
   "cell_type": "code",
   "execution_count": 2,
   "id": "a49d6183-aa91-465a-8aa1-ab6a0687d644",
   "metadata": {},
   "outputs": [],
   "source": [
    "import torch\n",
    "import torch.nn as nn\n",
    "from torch.utils.data import Dataset, DataLoader"
   ]
  },
  {
   "cell_type": "code",
   "execution_count": 3,
   "id": "2c29d0f7-277f-4cb9-9bc8-6d99e7354da7",
   "metadata": {},
   "outputs": [],
   "source": [
    "import seaborn as sns"
   ]
  },
  {
   "cell_type": "code",
   "execution_count": 4,
   "id": "cf9680be-842d-413b-86ef-ec235ad0ddc3",
   "metadata": {},
   "outputs": [],
   "source": [
    "path = \"data/Tweets.csv\""
   ]
  },
  {
   "cell_type": "code",
   "execution_count": 5,
   "id": "2e43e21c-d112-4ad2-a165-22778492795a",
   "metadata": {},
   "outputs": [],
   "source": [
    "df = pd.read_csv(path)"
   ]
  },
  {
   "cell_type": "markdown",
   "id": "d411ae8c-dee9-4913-bb51-86f1b90c84c5",
   "metadata": {},
   "source": [
    "# Some preprocessing and taking a look at the data"
   ]
  },
  {
   "cell_type": "code",
   "execution_count": 6,
   "id": "e1a860a3-bddf-4e46-9f0d-a3a52655d1ed",
   "metadata": {},
   "outputs": [
    {
     "data": {
      "text/plain": [
       "textID           0\n",
       "text             1\n",
       "selected_text    1\n",
       "sentiment        0\n",
       "dtype: int64"
      ]
     },
     "execution_count": 6,
     "metadata": {},
     "output_type": "execute_result"
    }
   ],
   "source": [
    "df.isna().sum()"
   ]
  },
  {
   "cell_type": "code",
   "execution_count": 7,
   "id": "11473c83-d43a-40fc-8406-e1e9254094e0",
   "metadata": {},
   "outputs": [
    {
     "data": {
      "text/html": [
       "<div>\n",
       "<style scoped>\n",
       "    .dataframe tbody tr th:only-of-type {\n",
       "        vertical-align: middle;\n",
       "    }\n",
       "\n",
       "    .dataframe tbody tr th {\n",
       "        vertical-align: top;\n",
       "    }\n",
       "\n",
       "    .dataframe thead th {\n",
       "        text-align: right;\n",
       "    }\n",
       "</style>\n",
       "<table border=\"1\" class=\"dataframe\">\n",
       "  <thead>\n",
       "    <tr style=\"text-align: right;\">\n",
       "      <th></th>\n",
       "      <th>textID</th>\n",
       "      <th>text</th>\n",
       "      <th>selected_text</th>\n",
       "      <th>sentiment</th>\n",
       "    </tr>\n",
       "  </thead>\n",
       "  <tbody>\n",
       "    <tr>\n",
       "      <th>0</th>\n",
       "      <td>cb774db0d1</td>\n",
       "      <td>I`d have responded, if I were going</td>\n",
       "      <td>I`d have responded, if I were going</td>\n",
       "      <td>neutral</td>\n",
       "    </tr>\n",
       "    <tr>\n",
       "      <th>1</th>\n",
       "      <td>549e992a42</td>\n",
       "      <td>Sooo SAD I will miss you here in San Diego!!!</td>\n",
       "      <td>Sooo SAD</td>\n",
       "      <td>negative</td>\n",
       "    </tr>\n",
       "    <tr>\n",
       "      <th>2</th>\n",
       "      <td>088c60f138</td>\n",
       "      <td>my boss is bullying me...</td>\n",
       "      <td>bullying me</td>\n",
       "      <td>negative</td>\n",
       "    </tr>\n",
       "    <tr>\n",
       "      <th>3</th>\n",
       "      <td>9642c003ef</td>\n",
       "      <td>what interview! leave me alone</td>\n",
       "      <td>leave me alone</td>\n",
       "      <td>negative</td>\n",
       "    </tr>\n",
       "    <tr>\n",
       "      <th>4</th>\n",
       "      <td>358bd9e861</td>\n",
       "      <td>Sons of ****, why couldn`t they put them on t...</td>\n",
       "      <td>Sons of ****,</td>\n",
       "      <td>negative</td>\n",
       "    </tr>\n",
       "  </tbody>\n",
       "</table>\n",
       "</div>"
      ],
      "text/plain": [
       "       textID                                               text  \\\n",
       "0  cb774db0d1                I`d have responded, if I were going   \n",
       "1  549e992a42      Sooo SAD I will miss you here in San Diego!!!   \n",
       "2  088c60f138                          my boss is bullying me...   \n",
       "3  9642c003ef                     what interview! leave me alone   \n",
       "4  358bd9e861   Sons of ****, why couldn`t they put them on t...   \n",
       "\n",
       "                         selected_text sentiment  \n",
       "0  I`d have responded, if I were going   neutral  \n",
       "1                             Sooo SAD  negative  \n",
       "2                          bullying me  negative  \n",
       "3                       leave me alone  negative  \n",
       "4                        Sons of ****,  negative  "
      ]
     },
     "execution_count": 7,
     "metadata": {},
     "output_type": "execute_result"
    }
   ],
   "source": [
    "df.head()"
   ]
  },
  {
   "cell_type": "code",
   "execution_count": 8,
   "id": "4d7ed1a2-4727-492c-bf93-63f533178abf",
   "metadata": {},
   "outputs": [
    {
     "data": {
      "text/html": [
       "<div>\n",
       "<style scoped>\n",
       "    .dataframe tbody tr th:only-of-type {\n",
       "        vertical-align: middle;\n",
       "    }\n",
       "\n",
       "    .dataframe tbody tr th {\n",
       "        vertical-align: top;\n",
       "    }\n",
       "\n",
       "    .dataframe thead th {\n",
       "        text-align: right;\n",
       "    }\n",
       "</style>\n",
       "<table border=\"1\" class=\"dataframe\">\n",
       "  <thead>\n",
       "    <tr style=\"text-align: right;\">\n",
       "      <th></th>\n",
       "      <th>textID</th>\n",
       "      <th>text</th>\n",
       "      <th>selected_text</th>\n",
       "      <th>sentiment</th>\n",
       "    </tr>\n",
       "  </thead>\n",
       "  <tbody>\n",
       "    <tr>\n",
       "      <th>0</th>\n",
       "      <td>cb774db0d1</td>\n",
       "      <td>I`d have responded, if I were going</td>\n",
       "      <td>I`d have responded, if I were going</td>\n",
       "      <td>neutral</td>\n",
       "    </tr>\n",
       "    <tr>\n",
       "      <th>1</th>\n",
       "      <td>549e992a42</td>\n",
       "      <td>Sooo SAD I will miss you here in San Diego!!!</td>\n",
       "      <td>Sooo SAD</td>\n",
       "      <td>negative</td>\n",
       "    </tr>\n",
       "    <tr>\n",
       "      <th>2</th>\n",
       "      <td>088c60f138</td>\n",
       "      <td>my boss is bullying me...</td>\n",
       "      <td>bullying me</td>\n",
       "      <td>negative</td>\n",
       "    </tr>\n",
       "    <tr>\n",
       "      <th>3</th>\n",
       "      <td>9642c003ef</td>\n",
       "      <td>what interview! leave me alone</td>\n",
       "      <td>leave me alone</td>\n",
       "      <td>negative</td>\n",
       "    </tr>\n",
       "    <tr>\n",
       "      <th>4</th>\n",
       "      <td>358bd9e861</td>\n",
       "      <td>Sons of ****, why couldn`t they put them on t...</td>\n",
       "      <td>Sons of ****,</td>\n",
       "      <td>negative</td>\n",
       "    </tr>\n",
       "    <tr>\n",
       "      <th>...</th>\n",
       "      <td>...</td>\n",
       "      <td>...</td>\n",
       "      <td>...</td>\n",
       "      <td>...</td>\n",
       "    </tr>\n",
       "    <tr>\n",
       "      <th>27476</th>\n",
       "      <td>4eac33d1c0</td>\n",
       "      <td>wish we could come see u on Denver  husband l...</td>\n",
       "      <td>d lost</td>\n",
       "      <td>negative</td>\n",
       "    </tr>\n",
       "    <tr>\n",
       "      <th>27477</th>\n",
       "      <td>4f4c4fc327</td>\n",
       "      <td>I`ve wondered about rake to.  The client has ...</td>\n",
       "      <td>, don`t force</td>\n",
       "      <td>negative</td>\n",
       "    </tr>\n",
       "    <tr>\n",
       "      <th>27478</th>\n",
       "      <td>f67aae2310</td>\n",
       "      <td>Yay good for both of you. Enjoy the break - y...</td>\n",
       "      <td>Yay good for both of you.</td>\n",
       "      <td>positive</td>\n",
       "    </tr>\n",
       "    <tr>\n",
       "      <th>27479</th>\n",
       "      <td>ed167662a5</td>\n",
       "      <td>But it was worth it  ****.</td>\n",
       "      <td>But it was worth it  ****.</td>\n",
       "      <td>positive</td>\n",
       "    </tr>\n",
       "    <tr>\n",
       "      <th>27480</th>\n",
       "      <td>6f7127d9d7</td>\n",
       "      <td>All this flirting going on - The ATG smiles...</td>\n",
       "      <td>All this flirting going on - The ATG smiles. Y...</td>\n",
       "      <td>neutral</td>\n",
       "    </tr>\n",
       "  </tbody>\n",
       "</table>\n",
       "<p>27480 rows × 4 columns</p>\n",
       "</div>"
      ],
      "text/plain": [
       "           textID                                               text  \\\n",
       "0      cb774db0d1                I`d have responded, if I were going   \n",
       "1      549e992a42      Sooo SAD I will miss you here in San Diego!!!   \n",
       "2      088c60f138                          my boss is bullying me...   \n",
       "3      9642c003ef                     what interview! leave me alone   \n",
       "4      358bd9e861   Sons of ****, why couldn`t they put them on t...   \n",
       "...           ...                                                ...   \n",
       "27476  4eac33d1c0   wish we could come see u on Denver  husband l...   \n",
       "27477  4f4c4fc327   I`ve wondered about rake to.  The client has ...   \n",
       "27478  f67aae2310   Yay good for both of you. Enjoy the break - y...   \n",
       "27479  ed167662a5                         But it was worth it  ****.   \n",
       "27480  6f7127d9d7     All this flirting going on - The ATG smiles...   \n",
       "\n",
       "                                           selected_text sentiment  \n",
       "0                    I`d have responded, if I were going   neutral  \n",
       "1                                               Sooo SAD  negative  \n",
       "2                                            bullying me  negative  \n",
       "3                                         leave me alone  negative  \n",
       "4                                          Sons of ****,  negative  \n",
       "...                                                  ...       ...  \n",
       "27476                                             d lost  negative  \n",
       "27477                                      , don`t force  negative  \n",
       "27478                          Yay good for both of you.  positive  \n",
       "27479                         But it was worth it  ****.  positive  \n",
       "27480  All this flirting going on - The ATG smiles. Y...   neutral  \n",
       "\n",
       "[27480 rows x 4 columns]"
      ]
     },
     "execution_count": 8,
     "metadata": {},
     "output_type": "execute_result"
    }
   ],
   "source": [
    "df.dropna()"
   ]
  },
  {
   "cell_type": "code",
   "execution_count": 9,
   "id": "f3bedb49-889c-4789-b7ed-3701dfd97747",
   "metadata": {},
   "outputs": [],
   "source": [
    "category_id = {\n",
    "    'neutral':1,\n",
    "    'negative': 0,\n",
    "    'positive': 2\n",
    "}"
   ]
  },
  {
   "cell_type": "code",
   "execution_count": 10,
   "id": "a193e8f3-e401-4298-a814-e0fe73166be5",
   "metadata": {},
   "outputs": [],
   "source": [
    "df['class'] = df['sentiment'].map(category_id)"
   ]
  },
  {
   "cell_type": "code",
   "execution_count": 11,
   "id": "4f725add-5a9a-40e3-99ee-5b17a909dea1",
   "metadata": {},
   "outputs": [
    {
     "data": {
      "text/html": [
       "<div>\n",
       "<style scoped>\n",
       "    .dataframe tbody tr th:only-of-type {\n",
       "        vertical-align: middle;\n",
       "    }\n",
       "\n",
       "    .dataframe tbody tr th {\n",
       "        vertical-align: top;\n",
       "    }\n",
       "\n",
       "    .dataframe thead th {\n",
       "        text-align: right;\n",
       "    }\n",
       "</style>\n",
       "<table border=\"1\" class=\"dataframe\">\n",
       "  <thead>\n",
       "    <tr style=\"text-align: right;\">\n",
       "      <th></th>\n",
       "      <th>textID</th>\n",
       "      <th>text</th>\n",
       "      <th>selected_text</th>\n",
       "      <th>sentiment</th>\n",
       "      <th>class</th>\n",
       "    </tr>\n",
       "  </thead>\n",
       "  <tbody>\n",
       "    <tr>\n",
       "      <th>0</th>\n",
       "      <td>cb774db0d1</td>\n",
       "      <td>I`d have responded, if I were going</td>\n",
       "      <td>I`d have responded, if I were going</td>\n",
       "      <td>neutral</td>\n",
       "      <td>1</td>\n",
       "    </tr>\n",
       "    <tr>\n",
       "      <th>1</th>\n",
       "      <td>549e992a42</td>\n",
       "      <td>Sooo SAD I will miss you here in San Diego!!!</td>\n",
       "      <td>Sooo SAD</td>\n",
       "      <td>negative</td>\n",
       "      <td>0</td>\n",
       "    </tr>\n",
       "    <tr>\n",
       "      <th>2</th>\n",
       "      <td>088c60f138</td>\n",
       "      <td>my boss is bullying me...</td>\n",
       "      <td>bullying me</td>\n",
       "      <td>negative</td>\n",
       "      <td>0</td>\n",
       "    </tr>\n",
       "    <tr>\n",
       "      <th>3</th>\n",
       "      <td>9642c003ef</td>\n",
       "      <td>what interview! leave me alone</td>\n",
       "      <td>leave me alone</td>\n",
       "      <td>negative</td>\n",
       "      <td>0</td>\n",
       "    </tr>\n",
       "    <tr>\n",
       "      <th>4</th>\n",
       "      <td>358bd9e861</td>\n",
       "      <td>Sons of ****, why couldn`t they put them on t...</td>\n",
       "      <td>Sons of ****,</td>\n",
       "      <td>negative</td>\n",
       "      <td>0</td>\n",
       "    </tr>\n",
       "  </tbody>\n",
       "</table>\n",
       "</div>"
      ],
      "text/plain": [
       "       textID                                               text  \\\n",
       "0  cb774db0d1                I`d have responded, if I were going   \n",
       "1  549e992a42      Sooo SAD I will miss you here in San Diego!!!   \n",
       "2  088c60f138                          my boss is bullying me...   \n",
       "3  9642c003ef                     what interview! leave me alone   \n",
       "4  358bd9e861   Sons of ****, why couldn`t they put them on t...   \n",
       "\n",
       "                         selected_text sentiment  class  \n",
       "0  I`d have responded, if I were going   neutral      1  \n",
       "1                             Sooo SAD  negative      0  \n",
       "2                          bullying me  negative      0  \n",
       "3                       leave me alone  negative      0  \n",
       "4                        Sons of ****,  negative      0  "
      ]
     },
     "execution_count": 11,
     "metadata": {},
     "output_type": "execute_result"
    }
   ],
   "source": [
    "df.head()"
   ]
  },
  {
   "cell_type": "markdown",
   "id": "6ace2b7a-e46f-4aaa-a8f7-08d032e91077",
   "metadata": {},
   "source": [
    "# Hyperparam settings"
   ]
  },
  {
   "cell_type": "code",
   "execution_count": 12,
   "id": "00953cba-e8ab-4668-b00f-882a345089d9",
   "metadata": {},
   "outputs": [],
   "source": [
    "BATCH_SIZE=512\n",
    "NUM_EPOCHS = 80"
   ]
  },
  {
   "cell_type": "code",
   "execution_count": 13,
   "id": "3d21a92b-25be-4b65-92de-f0ebefaaaeb9",
   "metadata": {},
   "outputs": [],
   "source": [
    "X = df['text'].values\n",
    "y = df['class'].values"
   ]
  },
  {
   "cell_type": "code",
   "execution_count": 14,
   "id": "ad2a180f-b0cf-4149-9f0d-ba37e1be0e13",
   "metadata": {},
   "outputs": [],
   "source": [
    "X_train, X_test, y_train, y_test = train_test_split(X, y, test_size=0.2, random_state=42)"
   ]
  },
  {
   "cell_type": "code",
   "execution_count": 15,
   "id": "1196e2a2-67d2-444c-a745-c863e01bebe1",
   "metadata": {},
   "outputs": [
    {
     "data": {
      "text/plain": [
       "(21984,)"
      ]
     },
     "execution_count": 15,
     "metadata": {},
     "output_type": "execute_result"
    }
   ],
   "source": [
    "X_train.shape"
   ]
  },
  {
   "cell_type": "code",
   "execution_count": 16,
   "id": "330fd8ee-96c8-467e-b02f-e29d6aae5045",
   "metadata": {},
   "outputs": [
    {
     "data": {
      "text/plain": [
       "array(['Doctor Who has finished', ' you should.',\n",
       "       'back at school again. almost weekend. oh wait, i gotta work from eight to four tonight',\n",
       "       ...,\n",
       "       'is sitting thru the boring bits in Titanic waiting for the good bit to start in couple of hours',\n",
       "       'Missed the play',\n",
       "       'Oh I`m really tired of these migraines! #Endometriosis & #Fibromyalgia & #Migraines & sleep probs just compoundin ea other since surgery'],\n",
       "      dtype=object)"
      ]
     },
     "execution_count": 16,
     "metadata": {},
     "output_type": "execute_result"
    }
   ],
   "source": [
    "X_train"
   ]
  },
  {
   "cell_type": "markdown",
   "id": "c6f6fe27-15b8-477e-9d29-1097754a5b63",
   "metadata": {},
   "source": [
    "# OHE"
   ]
  },
  {
   "cell_type": "code",
   "execution_count": 17,
   "id": "bb4274a4-b86b-4e5b-a2ce-86c4b2d703da",
   "metadata": {},
   "outputs": [],
   "source": [
    "one_hot = CountVectorizer()"
   ]
  },
  {
   "cell_type": "code",
   "execution_count": 18,
   "id": "775c14a3-443b-44bc-b159-12e6f78c2429",
   "metadata": {},
   "outputs": [],
   "source": [
    "X_train_ohe = one_hot.fit_transform(X_train.astype('U'))\n",
    "X_test_ohe = one_hot.transform(X_test.astype('U'))"
   ]
  },
  {
   "cell_type": "code",
   "execution_count": 19,
   "id": "28740fb5-af41-41fb-a123-455f682a03e5",
   "metadata": {},
   "outputs": [
    {
     "data": {
      "text/plain": [
       "<21984x23036 sparse matrix of type '<class 'numpy.int64'>'\n",
       "\twith 251401 stored elements in Compressed Sparse Row format>"
      ]
     },
     "execution_count": 19,
     "metadata": {},
     "output_type": "execute_result"
    }
   ],
   "source": [
    "X_train_ohe"
   ]
  },
  {
   "cell_type": "code",
   "execution_count": 20,
   "id": "c79c82c9-9943-4af3-9528-53aa418f011e",
   "metadata": {},
   "outputs": [],
   "source": [
    "## Initialize a dataset class\n",
    "\n",
    "class SentimentData(Dataset):\n",
    "    def __init__(self, X, y):\n",
    "        super().__init__()\n",
    "        self.X = torch.Tensor(X.toarray())\n",
    "        self.y = torch.Tensor(y).type(torch.LongTensor)\n",
    "        self.len = len(self.X)\n",
    "\n",
    "    def __len__(self):\n",
    "        return self.len\n",
    "\n",
    "    def __getitem__(self, index):\n",
    "        return self.X[index], self.y[index]"
   ]
  },
  {
   "cell_type": "code",
   "execution_count": 21,
   "id": "25c76941-25f7-4bbb-9c40-254f8a2b433b",
   "metadata": {},
   "outputs": [],
   "source": [
    "train_ds = SentimentData(X=X_train_ohe, y=y_train)\n",
    "test_ds = SentimentData(X_test_ohe, y_test)"
   ]
  },
  {
   "cell_type": "code",
   "execution_count": 22,
   "id": "a44a3bd0-fa76-4df1-b554-ab5b862e4cd7",
   "metadata": {},
   "outputs": [],
   "source": [
    "# Dataloader\n",
    "train_loader = DataLoader(dataset=train_ds, batch_size=BATCH_SIZE, shuffle=True)\n",
    "test_loader = DataLoader(dataset=test_ds, batch_size=15000)"
   ]
  },
  {
   "cell_type": "code",
   "execution_count": 23,
   "id": "9964549a-2fae-4cc3-a66e-c7a768738d27",
   "metadata": {},
   "outputs": [],
   "source": [
    "# First model - 1 hidden layer\n",
    "class SentimentModel(nn.Module):\n",
    "    def __init__(self, NUM_FEATURES, NUM_CLASSES, HIDDEN=10):\n",
    "        super().__init__()\n",
    "        self.linear = nn.Linear(NUM_FEATURES, HIDDEN)\n",
    "        self.linear2 = nn.Linear(HIDDEN, NUM_CLASSES)\n",
    "        self.relu = nn.ReLU()\n",
    "        self.log_softmax = nn.LogSoftmax(dim=1)\n",
    "\n",
    "    def forward(self, x):\n",
    "        x = self.linear(x)\n",
    "        x = self.relu(x)\n",
    "        x = self.linear2(x)\n",
    "        x = self.log_softmax(x)\n",
    "        return x\n"
   ]
  },
  {
   "cell_type": "markdown",
   "id": "7de569a0-0960-47e4-a038-9f4dfad081d1",
   "metadata": {},
   "source": [
    "# Model, Loss, and Optimizer"
   ]
  },
  {
   "cell_type": "code",
   "execution_count": 24,
   "id": "15aef382-969e-41d2-9f26-1fdc574f0734",
   "metadata": {},
   "outputs": [],
   "source": [
    "model = SentimentModel(NUM_FEATURES=X_train_ohe.shape[1], NUM_CLASSES=3)\n",
    "\n",
    "criterion = nn.CrossEntropyLoss()\n",
    "optimizer = torch.optim.AdamW(model.parameters())"
   ]
  },
  {
   "cell_type": "code",
   "execution_count": 25,
   "id": "515521f4-d674-45f2-bcb3-ce901a85b96d",
   "metadata": {},
   "outputs": [
    {
     "name": "stdout",
     "output_type": "stream",
     "text": [
      "Epoch 1, Loss: 46.198302030563354\n",
      "Epoch 2, Loss: 42.5823615193367\n",
      "Epoch 3, Loss: 38.424820363521576\n",
      "Epoch 4, Loss: 34.43505275249481\n",
      "Epoch 5, Loss: 30.919039130210876\n",
      "Epoch 6, Loss: 27.9362576007843\n",
      "Epoch 7, Loss: 25.422067761421204\n",
      "Epoch 8, Loss: 23.291050732135773\n",
      "Epoch 9, Loss: 21.480659514665604\n",
      "Epoch 10, Loss: 19.918626874685287\n",
      "Epoch 11, Loss: 18.565919250249863\n",
      "Epoch 12, Loss: 17.358234763145447\n",
      "Epoch 13, Loss: 16.291173696517944\n",
      "Epoch 14, Loss: 15.328276127576828\n",
      "Epoch 15, Loss: 14.476417660713196\n",
      "Epoch 16, Loss: 13.697903245687485\n",
      "Epoch 17, Loss: 12.98962315917015\n",
      "Epoch 18, Loss: 12.348355129361153\n",
      "Epoch 19, Loss: 11.75837618112564\n",
      "Epoch 20, Loss: 11.219238564372063\n",
      "Epoch 21, Loss: 10.729280099272728\n",
      "Epoch 22, Loss: 10.261209353804588\n",
      "Epoch 23, Loss: 9.835296511650085\n",
      "Epoch 24, Loss: 9.435536101460457\n",
      "Epoch 25, Loss: 9.073822617530823\n",
      "Epoch 26, Loss: 8.729820549488068\n",
      "Epoch 27, Loss: 8.409066498279572\n",
      "Epoch 28, Loss: 8.107614621520042\n",
      "Epoch 29, Loss: 7.835522174835205\n",
      "Epoch 30, Loss: 7.569360926747322\n",
      "Epoch 31, Loss: 7.31555962562561\n",
      "Epoch 32, Loss: 7.086380332708359\n",
      "Epoch 33, Loss: 6.867448404431343\n",
      "Epoch 34, Loss: 6.65890347212553\n",
      "Epoch 35, Loss: 6.467037923634052\n",
      "Epoch 36, Loss: 6.281923174858093\n",
      "Epoch 37, Loss: 6.092043898999691\n",
      "Epoch 38, Loss: 5.936199858784676\n",
      "Epoch 39, Loss: 5.774931162595749\n",
      "Epoch 40, Loss: 5.633168861269951\n",
      "Epoch 41, Loss: 5.4756555780768394\n",
      "Epoch 42, Loss: 5.337761677801609\n",
      "Epoch 43, Loss: 5.210534363985062\n",
      "Epoch 44, Loss: 5.079053342342377\n",
      "Epoch 45, Loss: 4.954124480485916\n",
      "Epoch 46, Loss: 4.843074902892113\n",
      "Epoch 47, Loss: 4.729420438408852\n",
      "Epoch 48, Loss: 4.621888294816017\n",
      "Epoch 49, Loss: 4.525432661175728\n",
      "Epoch 50, Loss: 4.422355718910694\n",
      "Epoch 51, Loss: 4.331293947994709\n",
      "Epoch 52, Loss: 4.240472383797169\n",
      "Epoch 53, Loss: 4.1482017040252686\n",
      "Epoch 54, Loss: 4.064756974577904\n",
      "Epoch 55, Loss: 3.980691611766815\n",
      "Epoch 56, Loss: 3.907022215425968\n",
      "Epoch 57, Loss: 3.83353491127491\n",
      "Epoch 58, Loss: 3.7612341940402985\n",
      "Epoch 59, Loss: 3.6866322606801987\n",
      "Epoch 60, Loss: 3.6187107115983963\n",
      "Epoch 61, Loss: 3.550579659640789\n",
      "Epoch 62, Loss: 3.4910192489624023\n",
      "Epoch 63, Loss: 3.4304653331637383\n",
      "Epoch 64, Loss: 3.372361082583666\n",
      "Epoch 65, Loss: 3.308688849210739\n",
      "Epoch 66, Loss: 3.2564651742577553\n",
      "Epoch 67, Loss: 3.2079408057034016\n",
      "Epoch 68, Loss: 3.1573557145893574\n",
      "Epoch 69, Loss: 3.0974054522812366\n",
      "Epoch 70, Loss: 3.0499733835458755\n",
      "Epoch 71, Loss: 3.004541404545307\n",
      "Epoch 72, Loss: 2.958662934601307\n",
      "Epoch 73, Loss: 2.906141698360443\n",
      "Epoch 74, Loss: 2.866532117128372\n",
      "Epoch 75, Loss: 2.8218003921210766\n",
      "Epoch 76, Loss: 2.7824688963592052\n",
      "Epoch 77, Loss: 2.739750925451517\n",
      "Epoch 78, Loss: 2.7004739865660667\n",
      "Epoch 79, Loss: 2.6527736261487007\n",
      "Epoch 80, Loss: 2.619114466011524\n"
     ]
    }
   ],
   "source": [
    "# Model training loop\n",
    "\n",
    "train_losses = []\n",
    "\n",
    "for e in range(NUM_EPOCHS):\n",
    "    curr_loss = 0\n",
    "    for X_batch, y_batch in train_loader:\n",
    "        optimizer.zero_grad()\n",
    "        y_pred_log = model(X_batch)\n",
    "        loss = criterion(y_pred_log, y_batch.long())\n",
    "\n",
    "        curr_loss += loss.item()\n",
    "        loss.backward()\n",
    "        optimizer.step()\n",
    "    train_losses.append(curr_loss)\n",
    "    print(f\"Epoch {e+1}, Loss: {curr_loss}\")"
   ]
  },
  {
   "cell_type": "markdown",
   "id": "91d71431-ad1d-4ec4-a672-cf810261dd98",
   "metadata": {},
   "source": [
    "# Taking a look at training results"
   ]
  },
  {
   "cell_type": "code",
   "execution_count": 27,
   "id": "6e0496ad-98c5-4446-a801-796db8e53553",
   "metadata": {},
   "outputs": [
    {
     "data": {
      "text/plain": [
       "<Axes: >"
      ]
     },
     "execution_count": 27,
     "metadata": {},
     "output_type": "execute_result"
    },
    {
     "data": {
      "image/png": "[encoded data removed]",
      "text/plain": [
       "<Figure size 640x480 with 1 Axes>"
      ]
     },
     "metadata": {},
     "output_type": "display_data"
    }
   ],
   "source": [
    "sns.lineplot(x=list(range(len(train_losses))), y=train_losses)"
   ]
  },
  {
   "cell_type": "markdown",
   "id": "c134ed65-f3e9-4bda-b10b-5cdd7aeaf828",
   "metadata": {},
   "source": [
    "# Now evaluating the model performance"
   ]
  },
  {
   "cell_type": "code",
   "execution_count": 28,
   "id": "49a98d1f-6b96-413d-a6cc-645e435209fd",
   "metadata": {},
   "outputs": [],
   "source": [
    "with torch.no_grad():\n",
    "    for X_batch, y_batch in test_loader:\n",
    "        y_test_pred_log = model(X_batch)\n",
    "        y_test_pred = torch.argmax(y_test_pred_log, dim=1)"
   ]
  },
  {
   "cell_type": "code",
   "execution_count": 29,
   "id": "7f49aed8-d234-4aae-8edf-31196d0e71d7",
   "metadata": {},
   "outputs": [],
   "source": [
    "y_test_pred_np = y_test_pred.squeeze().cpu().numpy()"
   ]
  },
  {
   "cell_type": "code",
   "execution_count": 30,
   "id": "87cd978c-4921-4870-b2f5-6486ddd93cb5",
   "metadata": {},
   "outputs": [
    {
     "data": {
      "text/plain": [
       "'The accuracy of the model is 64.5%.'"
      ]
     },
     "execution_count": 30,
     "metadata": {},
     "output_type": "execute_result"
    }
   ],
   "source": [
    "acc = accuracy_score(y_pred=y_test_pred_np, y_true=y_test)\n",
    "f\"The accuracy of the model is {np.round(acc,3)*100}%.\""
   ]
  },
  {
   "cell_type": "code",
   "execution_count": 33,
   "id": "fd7e66a9-c5d5-4470-8889-a3a1214e2146",
   "metadata": {},
   "outputs": [
    {
     "name": "stdout",
     "output_type": "stream",
     "text": [
      "Naive Classifier: 40.6 %\n"
     ]
    }
   ],
   "source": [
    "## Naive classifier to show model does indeed perform better than the most likely scenario\n",
    "\n",
    "most_common_count = Counter(y_test).most_common()[0][1]\n",
    "print(f\"Naive Classifier: {np.round(most_common_count / len(y_test) * 100, 1)} %\")"
   ]
  },
  {
   "cell_type": "code",
   "execution_count": 32,
   "id": "434bb468-bcf2-4191-b245-9e1903061f6d",
   "metadata": {},
   "outputs": [
    {
     "data": {
      "text/plain": [
       "<Axes: >"
      ]
     },
     "execution_count": 32,
     "metadata": {},
     "output_type": "execute_result"
    },
    {
     "data": {
      "image/png": "[encoded data removed]",
      "text/plain": [
       "<Figure size 640x480 with 2 Axes>"
      ]
     },
     "metadata": {},
     "output_type": "display_data"
    }
   ],
   "source": [
    "sns.heatmap(confusion_matrix(y_test_pred_np, y_test), annot=True, fmt=\".0f\")"
   ]
  }
 ],
 "metadata": {
  "kernelspec": {
   "display_name": "Python 3 (ipykernel)",
   "language": "python",
   "name": "python3"
  },
  "language_info": {
   "codemirror_mode": {
    "name": "ipython",
    "version": 3
   },
   "file_extension": ".py",
   "mimetype": "text/x-python",
   "name": "python",
   "nbconvert_exporter": "python",
   "pygments_lexer": "ipython3",
   "version": "3.12.4"
  }
 },
 "nbformat": 4,
 "nbformat_minor": 5
}
